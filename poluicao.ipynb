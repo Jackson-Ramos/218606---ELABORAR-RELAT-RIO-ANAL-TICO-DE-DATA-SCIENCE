{
 "cells": [
  {
   "cell_type": "markdown",
   "id": "d779e073",
   "metadata": {},
   "source": [
    "# CESED – CENTRO DE ENSINO SUPERIOR E DESENVOLVIMENTO  \n",
    "# UNIFACISA – CENTRO UNIVERSITÁRIO\n",
    "\n",
    "### Curso: Sistemas de Informação  \n",
    "### Disciplina: 218606 - Elaborar Relatório Analítico de Data Science  \n",
    "### Professor: Matheus Batista Silva\n",
    "\n",
    "---\n",
    "\n",
    "### Projeto: Análise da Qualidade do Ar no Estado de São Paulo (2015–2021)\n",
    "\n",
    "#### Grupo:\n",
    "- Carlos Renato Pereira da Silva  \n",
    "- Thiago Emanuel Barros Fernandes  \n",
    "- Jackson Souza Ramos  \n",
    "- Sanclero de Melo Nunes  \n",
    "- Wabstton Montenegro Bandeira\n",
    "- Nivea Ester de Almeida Sousa"
   ]
  },
  {
   "cell_type": "markdown",
   "id": "becc6d1f",
   "metadata": {},
   "source": [
    "## Seção 1: Introdução\n",
    "\n",
    "Este projeto, desenvolvido em grupo, tem como objetivo analisar dados sobre a qualidade do ar no estado de São Paulo, buscando entender como a poluição atmosférica tem evoluído nos últimos anos e quais impactos isso pode representar para a saúde da população.\n",
    "\n",
    "O conjunto de dados utilizado contém informações coletadas entre **2015 e 2021** por **87 estações de monitoramento** distribuídas por diversas cidades do estado. Essas estações registram medições da concentração de **nove poluentes atmosféricos diferentes**, como MP10, O3, NO2, CO, entre outros. Além disso, o dataset inclui dados como a data e hora da medição, o local da estação, o tipo de coleta e a unidade de medição.\n",
    "\n",
    "A partir dessa base, buscamos identificar padrões, comparar níveis de poluição entre regiões e acompanhar a variação desses indicadores ao longo do tempo.\n",
    "\n",
    "Os dados foram obtidos da **Plataforma Qualidade do Ar**, mantida pelo **Instituto de Energia e Meio Ambiente (IEMA)**. Eles estão disponíveis publicamente no seguinte link:\n",
    "\n",
    "### Legenda dos Poluentes\n",
    "\n",
    "- **MP10** – Material Particulado com diâmetro até 10 µm  \n",
    "- **MP2.5** – Material Particulado com diâmetro até 2,5 µm  \n",
    "- **O3** – Ozônio  \n",
    "- **NO2** – Dióxido de Nitrogênio  \n",
    "- **NO** – Monóxido de Nitrogênio  \n",
    "- **CO** – Monóxido de Carbono  \n",
    "- **SO2** – Dióxido de Enxofre  \n",
    "- **PTS** – Partículas Totais em Suspensão  \n",
    "- **FMC** – Fumaça\n",
    "\n",
    "Esses poluentes são monitorados por serem prejudiciais à saúde humana e ao meio ambiente, podendo agravar doenças respiratórias, cardiovasculares e contribuir com problemas de visibilidade e chuvas ácidas.\n",
    "\n",
    "**Link dataset:** [https://www.kaggle.com/datasets/samirnunesdasilva/sao-paulo-pollution-data](https://www.kaggle.com/datasets/samirnunesdasilva/sao-paulo-pollution-data)"
   ]
  },
  {
   "cell_type": "markdown",
   "id": "c1aee48a",
   "metadata": {},
   "source": [
    "### 1.1  Cenário Proposto\n",
    "\n",
    "Em parceria com o **Instituto de Energia e Meio Ambiente (IEMA)**, a **Prefeitura da Cidade de São Paulo** decidiu monitorar a qualidade do ar e os níveis de poluição na capital paulista. \n",
    "O principal objetivo dessa iniciativa é promover a melhoria da qualidade de vida e da saúde da população. \n",
    "Para isso, estão sendo analisados dados relacionados aos **poluentes atmosféricos**, como suas **concentrações medidas (valores)**, a **unidade de medida utilizada**, e os **locais específicos** onde as coletas foram realizadas.\n"
   ]
  },
  {
   "cell_type": "markdown",
   "id": "1c252fbd",
   "metadata": {},
   "source": [
    "## Seção 2: Importação das Bibliotecas\n",
    "\n",
    "- **pandas**: manipulação e análise de dados em formato de tabelas (DataFrames).\n",
    "- **numpy**: operações numéricas e suporte a arrays multidimensionais.\n",
    "- **matplotlib.pyplot**: criação de visualizações e gráficos estáticos.\n",
    "- **seaborn**: geração de gráficos estatísticos com visual mais atrativo e integração com pandas.\n"
   ]
  },
  {
   "cell_type": "code",
   "execution_count": 1,
   "id": "5760d079",
   "metadata": {},
   "outputs": [],
   "source": [
    "import pandas as pd\n",
    "import numpy as np\n",
    "import matplotlib.pyplot as plt\n",
    "import seaborn as sns\n",
    "\n",
    "# Estilo padrão dos gráficos\n",
    "plt.style.use('seaborn-v0_8')\n",
    "sns.set_palette('Set2')"
   ]
  },
  {
   "cell_type": "markdown",
   "id": "b7b79ca7",
   "metadata": {},
   "source": [
    "## Seção 3: Leitura dos Dados\n",
    "\n",
    "- **Definição do caminho**: especificamos o local onde o arquivo `.csv` está armazenado.\n",
    "- **Leitura com `pandas`**: carregamos os dados do arquivo CSV para um DataFrame usando `pd.read_csv()`.\n",
    "- **Dimensão do dataset**: exibimos a quantidade de linhas e colunas presentes no conjunto de dados utilizando `.shape`.\n"
   ]
  },
  {
   "cell_type": "code",
   "execution_count": 2,
   "id": "6e34c5fd",
   "metadata": {},
   "outputs": [
    {
     "name": "stdout",
     "output_type": "stream",
     "text": [
      "Dataset carregado com 10,980,515 linhas e 10 colunas.\n"
     ]
    }
   ],
   "source": [
    "# Caminho do arquivo\n",
    "caminho_arquivo = 'data/SP_poluicao_dados.csv'\n",
    "\n",
    "# Leitura dos dados\n",
    "df = pd.read_csv(caminho_arquivo)\n",
    "\n",
    "# Exibe número de linhas e colunas\n",
    "print(f'Dataset carregado com {df.shape[0]:,} linhas e {df.shape[1]} colunas.')"
   ]
  },
  {
   "cell_type": "markdown",
   "id": "d4d02b06",
   "metadata": {},
   "source": [
    "## Seção 4: Visualização Inicial dos Dados\n",
    "\n",
    "Nesta etapa, exibimos as 10 primeiras e as 10 últimas entradas do dataset utilizando os métodos `head(10)` e `tail(10)`, \n",
    "respectivamente. Essa abordagem permite verificar a estrutura inicial e final dos dados, ajudando a identificar possíveis \n",
    "inconsistências ou anomalias logo na leitura do arquivo.\n"
   ]
  },
  {
   "cell_type": "code",
   "execution_count": 3,
   "id": "b6ca4ed2",
   "metadata": {},
   "outputs": [
    {
     "data": {
      "application/vnd.microsoft.datawrangler.viewer.v0+json": {
       "columns": [
        {
         "name": "index",
         "rawType": "int64",
         "type": "integer"
        },
        {
         "name": "Unnamed: 0",
         "rawType": "int64",
         "type": "integer"
        },
        {
         "name": "ID",
         "rawType": "int64",
         "type": "integer"
        },
        {
         "name": "Data",
         "rawType": "object",
         "type": "string"
        },
        {
         "name": "Hora",
         "rawType": "object",
         "type": "string"
        },
        {
         "name": "Estacao",
         "rawType": "object",
         "type": "string"
        },
        {
         "name": "Codigo",
         "rawType": "object",
         "type": "string"
        },
        {
         "name": "Poluente",
         "rawType": "object",
         "type": "string"
        },
        {
         "name": "Valor",
         "rawType": "float64",
         "type": "float"
        },
        {
         "name": "Unidade",
         "rawType": "object",
         "type": "string"
        },
        {
         "name": "Tipo",
         "rawType": "object",
         "type": "string"
        }
       ],
       "ref": "87528863-6b5d-4357-8bed-dac4ec13182b",
       "rows": [
        [
         "0",
         "0",
         "0",
         "2015-01-01",
         "01:00",
         "Americana - Vila Santa Maria",
         "SP01",
         "MP10",
         "65.0",
         "ug/m3",
         "automatica"
        ],
        [
         "1",
         "1",
         "1",
         "2015-01-01",
         "02:00",
         "Americana - Vila Santa Maria",
         "SP01",
         "MP10",
         "98.0",
         "ug/m3",
         "automatica"
        ],
        [
         "2",
         "2",
         "2",
         "2015-01-01",
         "03:00",
         "Americana - Vila Santa Maria",
         "SP01",
         "MP10",
         "79.0",
         "ug/m3",
         "automatica"
        ],
        [
         "3",
         "3",
         "3",
         "2015-01-01",
         "04:00",
         "Americana - Vila Santa Maria",
         "SP01",
         "MP10",
         "53.0",
         "ug/m3",
         "automatica"
        ],
        [
         "4",
         "4",
         "4",
         "2015-01-01",
         "05:00",
         "Americana - Vila Santa Maria",
         "SP01",
         "MP10",
         "35.0",
         "ug/m3",
         "automatica"
        ],
        [
         "5",
         "5",
         "5",
         "2015-01-01",
         "06:00",
         "Americana - Vila Santa Maria",
         "SP01",
         "MP10",
         "24.0",
         "ug/m3",
         "automatica"
        ],
        [
         "6",
         "6",
         "6",
         "2015-01-01",
         "07:00",
         "Americana - Vila Santa Maria",
         "SP01",
         "MP10",
         "25.0",
         "ug/m3",
         "automatica"
        ],
        [
         "7",
         "7",
         "7",
         "2015-01-01",
         "08:00",
         "Americana - Vila Santa Maria",
         "SP01",
         "MP10",
         "41.0",
         "ug/m3",
         "automatica"
        ],
        [
         "8",
         "8",
         "8",
         "2015-01-01",
         "09:00",
         "Americana - Vila Santa Maria",
         "SP01",
         "MP10",
         "28.0",
         "ug/m3",
         "automatica"
        ],
        [
         "9",
         "9",
         "9",
         "2015-01-01",
         "10:00",
         "Americana - Vila Santa Maria",
         "SP01",
         "MP10",
         "19.0",
         "ug/m3",
         "automatica"
        ]
       ],
       "shape": {
        "columns": 10,
        "rows": 10
       }
      },
      "text/html": [
       "<div>\n",
       "<style scoped>\n",
       "    .dataframe tbody tr th:only-of-type {\n",
       "        vertical-align: middle;\n",
       "    }\n",
       "\n",
       "    .dataframe tbody tr th {\n",
       "        vertical-align: top;\n",
       "    }\n",
       "\n",
       "    .dataframe thead th {\n",
       "        text-align: right;\n",
       "    }\n",
       "</style>\n",
       "<table border=\"1\" class=\"dataframe\">\n",
       "  <thead>\n",
       "    <tr style=\"text-align: right;\">\n",
       "      <th></th>\n",
       "      <th>Unnamed: 0</th>\n",
       "      <th>ID</th>\n",
       "      <th>Data</th>\n",
       "      <th>Hora</th>\n",
       "      <th>Estacao</th>\n",
       "      <th>Codigo</th>\n",
       "      <th>Poluente</th>\n",
       "      <th>Valor</th>\n",
       "      <th>Unidade</th>\n",
       "      <th>Tipo</th>\n",
       "    </tr>\n",
       "  </thead>\n",
       "  <tbody>\n",
       "    <tr>\n",
       "      <th>0</th>\n",
       "      <td>0</td>\n",
       "      <td>0</td>\n",
       "      <td>2015-01-01</td>\n",
       "      <td>01:00</td>\n",
       "      <td>Americana - Vila Santa Maria</td>\n",
       "      <td>SP01</td>\n",
       "      <td>MP10</td>\n",
       "      <td>65.0</td>\n",
       "      <td>ug/m3</td>\n",
       "      <td>automatica</td>\n",
       "    </tr>\n",
       "    <tr>\n",
       "      <th>1</th>\n",
       "      <td>1</td>\n",
       "      <td>1</td>\n",
       "      <td>2015-01-01</td>\n",
       "      <td>02:00</td>\n",
       "      <td>Americana - Vila Santa Maria</td>\n",
       "      <td>SP01</td>\n",
       "      <td>MP10</td>\n",
       "      <td>98.0</td>\n",
       "      <td>ug/m3</td>\n",
       "      <td>automatica</td>\n",
       "    </tr>\n",
       "    <tr>\n",
       "      <th>2</th>\n",
       "      <td>2</td>\n",
       "      <td>2</td>\n",
       "      <td>2015-01-01</td>\n",
       "      <td>03:00</td>\n",
       "      <td>Americana - Vila Santa Maria</td>\n",
       "      <td>SP01</td>\n",
       "      <td>MP10</td>\n",
       "      <td>79.0</td>\n",
       "      <td>ug/m3</td>\n",
       "      <td>automatica</td>\n",
       "    </tr>\n",
       "    <tr>\n",
       "      <th>3</th>\n",
       "      <td>3</td>\n",
       "      <td>3</td>\n",
       "      <td>2015-01-01</td>\n",
       "      <td>04:00</td>\n",
       "      <td>Americana - Vila Santa Maria</td>\n",
       "      <td>SP01</td>\n",
       "      <td>MP10</td>\n",
       "      <td>53.0</td>\n",
       "      <td>ug/m3</td>\n",
       "      <td>automatica</td>\n",
       "    </tr>\n",
       "    <tr>\n",
       "      <th>4</th>\n",
       "      <td>4</td>\n",
       "      <td>4</td>\n",
       "      <td>2015-01-01</td>\n",
       "      <td>05:00</td>\n",
       "      <td>Americana - Vila Santa Maria</td>\n",
       "      <td>SP01</td>\n",
       "      <td>MP10</td>\n",
       "      <td>35.0</td>\n",
       "      <td>ug/m3</td>\n",
       "      <td>automatica</td>\n",
       "    </tr>\n",
       "    <tr>\n",
       "      <th>5</th>\n",
       "      <td>5</td>\n",
       "      <td>5</td>\n",
       "      <td>2015-01-01</td>\n",
       "      <td>06:00</td>\n",
       "      <td>Americana - Vila Santa Maria</td>\n",
       "      <td>SP01</td>\n",
       "      <td>MP10</td>\n",
       "      <td>24.0</td>\n",
       "      <td>ug/m3</td>\n",
       "      <td>automatica</td>\n",
       "    </tr>\n",
       "    <tr>\n",
       "      <th>6</th>\n",
       "      <td>6</td>\n",
       "      <td>6</td>\n",
       "      <td>2015-01-01</td>\n",
       "      <td>07:00</td>\n",
       "      <td>Americana - Vila Santa Maria</td>\n",
       "      <td>SP01</td>\n",
       "      <td>MP10</td>\n",
       "      <td>25.0</td>\n",
       "      <td>ug/m3</td>\n",
       "      <td>automatica</td>\n",
       "    </tr>\n",
       "    <tr>\n",
       "      <th>7</th>\n",
       "      <td>7</td>\n",
       "      <td>7</td>\n",
       "      <td>2015-01-01</td>\n",
       "      <td>08:00</td>\n",
       "      <td>Americana - Vila Santa Maria</td>\n",
       "      <td>SP01</td>\n",
       "      <td>MP10</td>\n",
       "      <td>41.0</td>\n",
       "      <td>ug/m3</td>\n",
       "      <td>automatica</td>\n",
       "    </tr>\n",
       "    <tr>\n",
       "      <th>8</th>\n",
       "      <td>8</td>\n",
       "      <td>8</td>\n",
       "      <td>2015-01-01</td>\n",
       "      <td>09:00</td>\n",
       "      <td>Americana - Vila Santa Maria</td>\n",
       "      <td>SP01</td>\n",
       "      <td>MP10</td>\n",
       "      <td>28.0</td>\n",
       "      <td>ug/m3</td>\n",
       "      <td>automatica</td>\n",
       "    </tr>\n",
       "    <tr>\n",
       "      <th>9</th>\n",
       "      <td>9</td>\n",
       "      <td>9</td>\n",
       "      <td>2015-01-01</td>\n",
       "      <td>10:00</td>\n",
       "      <td>Americana - Vila Santa Maria</td>\n",
       "      <td>SP01</td>\n",
       "      <td>MP10</td>\n",
       "      <td>19.0</td>\n",
       "      <td>ug/m3</td>\n",
       "      <td>automatica</td>\n",
       "    </tr>\n",
       "  </tbody>\n",
       "</table>\n",
       "</div>"
      ],
      "text/plain": [
       "   Unnamed: 0  ID        Data   Hora                       Estacao Codigo  \\\n",
       "0           0   0  2015-01-01  01:00  Americana - Vila Santa Maria   SP01   \n",
       "1           1   1  2015-01-01  02:00  Americana - Vila Santa Maria   SP01   \n",
       "2           2   2  2015-01-01  03:00  Americana - Vila Santa Maria   SP01   \n",
       "3           3   3  2015-01-01  04:00  Americana - Vila Santa Maria   SP01   \n",
       "4           4   4  2015-01-01  05:00  Americana - Vila Santa Maria   SP01   \n",
       "5           5   5  2015-01-01  06:00  Americana - Vila Santa Maria   SP01   \n",
       "6           6   6  2015-01-01  07:00  Americana - Vila Santa Maria   SP01   \n",
       "7           7   7  2015-01-01  08:00  Americana - Vila Santa Maria   SP01   \n",
       "8           8   8  2015-01-01  09:00  Americana - Vila Santa Maria   SP01   \n",
       "9           9   9  2015-01-01  10:00  Americana - Vila Santa Maria   SP01   \n",
       "\n",
       "  Poluente  Valor Unidade        Tipo  \n",
       "0     MP10   65.0   ug/m3  automatica  \n",
       "1     MP10   98.0   ug/m3  automatica  \n",
       "2     MP10   79.0   ug/m3  automatica  \n",
       "3     MP10   53.0   ug/m3  automatica  \n",
       "4     MP10   35.0   ug/m3  automatica  \n",
       "5     MP10   24.0   ug/m3  automatica  \n",
       "6     MP10   25.0   ug/m3  automatica  \n",
       "7     MP10   41.0   ug/m3  automatica  \n",
       "8     MP10   28.0   ug/m3  automatica  \n",
       "9     MP10   19.0   ug/m3  automatica  "
      ]
     },
     "execution_count": 3,
     "metadata": {},
     "output_type": "execute_result"
    }
   ],
   "source": [
    "# Primeiras 10 linhas\n",
    "df.head(10)"
   ]
  },
  {
   "cell_type": "code",
   "execution_count": 4,
   "id": "d4c15061",
   "metadata": {},
   "outputs": [
    {
     "data": {
      "application/vnd.microsoft.datawrangler.viewer.v0+json": {
       "columns": [
        {
         "name": "index",
         "rawType": "int64",
         "type": "integer"
        },
        {
         "name": "Unnamed: 0",
         "rawType": "int64",
         "type": "integer"
        },
        {
         "name": "ID",
         "rawType": "int64",
         "type": "integer"
        },
        {
         "name": "Data",
         "rawType": "object",
         "type": "string"
        },
        {
         "name": "Hora",
         "rawType": "object",
         "type": "string"
        },
        {
         "name": "Estacao",
         "rawType": "object",
         "type": "string"
        },
        {
         "name": "Codigo",
         "rawType": "object",
         "type": "string"
        },
        {
         "name": "Poluente",
         "rawType": "object",
         "type": "string"
        },
        {
         "name": "Valor",
         "rawType": "float64",
         "type": "float"
        },
        {
         "name": "Unidade",
         "rawType": "object",
         "type": "string"
        },
        {
         "name": "Tipo",
         "rawType": "object",
         "type": "string"
        }
       ],
       "ref": "5a0c1589-53f2-49a8-8a11-b8c84042b963",
       "rows": [
        [
         "10980505",
         "10980505",
         "10980505",
         "2021-02-01",
         "01:00",
         "Salto - Centro",
         "SP56",
         "SO2",
         "3.0",
         "ug/m3",
         "manual"
        ],
        [
         "10980506",
         "10980506",
         "10980506",
         "2021-05-01",
         "01:00",
         "Salto - Centro",
         "SP56",
         "SO2",
         "3.0",
         "ug/m3",
         "manual"
        ],
        [
         "10980507",
         "10980507",
         "10980507",
         "2021-09-01",
         "01:00",
         "Salto - Centro",
         "SP56",
         "SO2",
         "7.0",
         "ug/m3",
         "manual"
        ],
        [
         "10980508",
         "10980508",
         "10980508",
         "2021-10-01",
         "01:00",
         "Salto - Centro",
         "SP56",
         "SO2",
         "5.0",
         "ug/m3",
         "manual"
        ],
        [
         "10980509",
         "10980509",
         "10980509",
         "2021-01-01",
         "01:00",
         "Tatuapé",
         "SP76",
         "SO2",
         "3.0",
         "ug/m3",
         "manual"
        ],
        [
         "10980510",
         "10980510",
         "10980510",
         "2021-02-01",
         "01:00",
         "Tatuapé",
         "SP76",
         "SO2",
         "3.0",
         "ug/m3",
         "manual"
        ],
        [
         "10980511",
         "10980511",
         "10980511",
         "2021-03-01",
         "01:00",
         "Tatuapé",
         "SP76",
         "SO2",
         "3.0",
         "ug/m3",
         "manual"
        ],
        [
         "10980512",
         "10980512",
         "10980512",
         "2021-04-01",
         "01:00",
         "Tatuapé",
         "SP76",
         "SO2",
         "3.0",
         "ug/m3",
         "manual"
        ],
        [
         "10980513",
         "10980513",
         "10980513",
         "2021-05-01",
         "01:00",
         "Tatuapé",
         "SP76",
         "SO2",
         "5.0",
         "ug/m3",
         "manual"
        ],
        [
         "10980514",
         "10980514",
         "10980514",
         "2021-10-01",
         "01:00",
         "Tatuapé",
         "SP76",
         "SO2",
         "3.0",
         "ug/m3",
         "manual"
        ]
       ],
       "shape": {
        "columns": 10,
        "rows": 10
       }
      },
      "text/html": [
       "<div>\n",
       "<style scoped>\n",
       "    .dataframe tbody tr th:only-of-type {\n",
       "        vertical-align: middle;\n",
       "    }\n",
       "\n",
       "    .dataframe tbody tr th {\n",
       "        vertical-align: top;\n",
       "    }\n",
       "\n",
       "    .dataframe thead th {\n",
       "        text-align: right;\n",
       "    }\n",
       "</style>\n",
       "<table border=\"1\" class=\"dataframe\">\n",
       "  <thead>\n",
       "    <tr style=\"text-align: right;\">\n",
       "      <th></th>\n",
       "      <th>Unnamed: 0</th>\n",
       "      <th>ID</th>\n",
       "      <th>Data</th>\n",
       "      <th>Hora</th>\n",
       "      <th>Estacao</th>\n",
       "      <th>Codigo</th>\n",
       "      <th>Poluente</th>\n",
       "      <th>Valor</th>\n",
       "      <th>Unidade</th>\n",
       "      <th>Tipo</th>\n",
       "    </tr>\n",
       "  </thead>\n",
       "  <tbody>\n",
       "    <tr>\n",
       "      <th>10980505</th>\n",
       "      <td>10980505</td>\n",
       "      <td>10980505</td>\n",
       "      <td>2021-02-01</td>\n",
       "      <td>01:00</td>\n",
       "      <td>Salto - Centro</td>\n",
       "      <td>SP56</td>\n",
       "      <td>SO2</td>\n",
       "      <td>3.0</td>\n",
       "      <td>ug/m3</td>\n",
       "      <td>manual</td>\n",
       "    </tr>\n",
       "    <tr>\n",
       "      <th>10980506</th>\n",
       "      <td>10980506</td>\n",
       "      <td>10980506</td>\n",
       "      <td>2021-05-01</td>\n",
       "      <td>01:00</td>\n",
       "      <td>Salto - Centro</td>\n",
       "      <td>SP56</td>\n",
       "      <td>SO2</td>\n",
       "      <td>3.0</td>\n",
       "      <td>ug/m3</td>\n",
       "      <td>manual</td>\n",
       "    </tr>\n",
       "    <tr>\n",
       "      <th>10980507</th>\n",
       "      <td>10980507</td>\n",
       "      <td>10980507</td>\n",
       "      <td>2021-09-01</td>\n",
       "      <td>01:00</td>\n",
       "      <td>Salto - Centro</td>\n",
       "      <td>SP56</td>\n",
       "      <td>SO2</td>\n",
       "      <td>7.0</td>\n",
       "      <td>ug/m3</td>\n",
       "      <td>manual</td>\n",
       "    </tr>\n",
       "    <tr>\n",
       "      <th>10980508</th>\n",
       "      <td>10980508</td>\n",
       "      <td>10980508</td>\n",
       "      <td>2021-10-01</td>\n",
       "      <td>01:00</td>\n",
       "      <td>Salto - Centro</td>\n",
       "      <td>SP56</td>\n",
       "      <td>SO2</td>\n",
       "      <td>5.0</td>\n",
       "      <td>ug/m3</td>\n",
       "      <td>manual</td>\n",
       "    </tr>\n",
       "    <tr>\n",
       "      <th>10980509</th>\n",
       "      <td>10980509</td>\n",
       "      <td>10980509</td>\n",
       "      <td>2021-01-01</td>\n",
       "      <td>01:00</td>\n",
       "      <td>Tatuapé</td>\n",
       "      <td>SP76</td>\n",
       "      <td>SO2</td>\n",
       "      <td>3.0</td>\n",
       "      <td>ug/m3</td>\n",
       "      <td>manual</td>\n",
       "    </tr>\n",
       "    <tr>\n",
       "      <th>10980510</th>\n",
       "      <td>10980510</td>\n",
       "      <td>10980510</td>\n",
       "      <td>2021-02-01</td>\n",
       "      <td>01:00</td>\n",
       "      <td>Tatuapé</td>\n",
       "      <td>SP76</td>\n",
       "      <td>SO2</td>\n",
       "      <td>3.0</td>\n",
       "      <td>ug/m3</td>\n",
       "      <td>manual</td>\n",
       "    </tr>\n",
       "    <tr>\n",
       "      <th>10980511</th>\n",
       "      <td>10980511</td>\n",
       "      <td>10980511</td>\n",
       "      <td>2021-03-01</td>\n",
       "      <td>01:00</td>\n",
       "      <td>Tatuapé</td>\n",
       "      <td>SP76</td>\n",
       "      <td>SO2</td>\n",
       "      <td>3.0</td>\n",
       "      <td>ug/m3</td>\n",
       "      <td>manual</td>\n",
       "    </tr>\n",
       "    <tr>\n",
       "      <th>10980512</th>\n",
       "      <td>10980512</td>\n",
       "      <td>10980512</td>\n",
       "      <td>2021-04-01</td>\n",
       "      <td>01:00</td>\n",
       "      <td>Tatuapé</td>\n",
       "      <td>SP76</td>\n",
       "      <td>SO2</td>\n",
       "      <td>3.0</td>\n",
       "      <td>ug/m3</td>\n",
       "      <td>manual</td>\n",
       "    </tr>\n",
       "    <tr>\n",
       "      <th>10980513</th>\n",
       "      <td>10980513</td>\n",
       "      <td>10980513</td>\n",
       "      <td>2021-05-01</td>\n",
       "      <td>01:00</td>\n",
       "      <td>Tatuapé</td>\n",
       "      <td>SP76</td>\n",
       "      <td>SO2</td>\n",
       "      <td>5.0</td>\n",
       "      <td>ug/m3</td>\n",
       "      <td>manual</td>\n",
       "    </tr>\n",
       "    <tr>\n",
       "      <th>10980514</th>\n",
       "      <td>10980514</td>\n",
       "      <td>10980514</td>\n",
       "      <td>2021-10-01</td>\n",
       "      <td>01:00</td>\n",
       "      <td>Tatuapé</td>\n",
       "      <td>SP76</td>\n",
       "      <td>SO2</td>\n",
       "      <td>3.0</td>\n",
       "      <td>ug/m3</td>\n",
       "      <td>manual</td>\n",
       "    </tr>\n",
       "  </tbody>\n",
       "</table>\n",
       "</div>"
      ],
      "text/plain": [
       "          Unnamed: 0        ID        Data   Hora         Estacao Codigo  \\\n",
       "10980505    10980505  10980505  2021-02-01  01:00  Salto - Centro   SP56   \n",
       "10980506    10980506  10980506  2021-05-01  01:00  Salto - Centro   SP56   \n",
       "10980507    10980507  10980507  2021-09-01  01:00  Salto - Centro   SP56   \n",
       "10980508    10980508  10980508  2021-10-01  01:00  Salto - Centro   SP56   \n",
       "10980509    10980509  10980509  2021-01-01  01:00         Tatuapé   SP76   \n",
       "10980510    10980510  10980510  2021-02-01  01:00         Tatuapé   SP76   \n",
       "10980511    10980511  10980511  2021-03-01  01:00         Tatuapé   SP76   \n",
       "10980512    10980512  10980512  2021-04-01  01:00         Tatuapé   SP76   \n",
       "10980513    10980513  10980513  2021-05-01  01:00         Tatuapé   SP76   \n",
       "10980514    10980514  10980514  2021-10-01  01:00         Tatuapé   SP76   \n",
       "\n",
       "         Poluente  Valor Unidade    Tipo  \n",
       "10980505      SO2    3.0   ug/m3  manual  \n",
       "10980506      SO2    3.0   ug/m3  manual  \n",
       "10980507      SO2    7.0   ug/m3  manual  \n",
       "10980508      SO2    5.0   ug/m3  manual  \n",
       "10980509      SO2    3.0   ug/m3  manual  \n",
       "10980510      SO2    3.0   ug/m3  manual  \n",
       "10980511      SO2    3.0   ug/m3  manual  \n",
       "10980512      SO2    3.0   ug/m3  manual  \n",
       "10980513      SO2    5.0   ug/m3  manual  \n",
       "10980514      SO2    3.0   ug/m3  manual  "
      ]
     },
     "execution_count": 4,
     "metadata": {},
     "output_type": "execute_result"
    }
   ],
   "source": [
    "# Últimas 10 linhas\n",
    "df.tail(10)"
   ]
  },
  {
   "cell_type": "markdown",
   "id": "c39fa745",
   "metadata": {},
   "source": [
    "### 4.1 Informações sobre tipos, nulos e estrutura geral\n",
    "\n",
    "O comando `df.info()` é utilizado no pandas, uma biblioteca Python para análise de dados. Ele nos ajuda a **conhecer o dataset**, fornecendo informações sobre a **estrutura geral** dos dados. Com ele, podemos ver:\n",
    "\n",
    "- O **número de linhas** e **colunas** no DataFrame.\n",
    "- O tipo de dado de cada coluna.\n",
    "- A quantidade de **valores não nulos** em cada coluna, o que nos ajuda a identificar dados faltantes.\n",
    "- A **memória** utilizada pelo DataFrame.\n",
    "\n",
    "Este comando é uma maneira rápida e eficiente de obter uma visão geral do seu dataset, permitindo entender quantas linhas e colunas existem, além dos tipos de dados presentes.\n"
   ]
  },
  {
   "cell_type": "code",
   "execution_count": 5,
   "id": "8bde85d8",
   "metadata": {},
   "outputs": [
    {
     "name": "stdout",
     "output_type": "stream",
     "text": [
      "<class 'pandas.core.frame.DataFrame'>\n",
      "RangeIndex: 10980515 entries, 0 to 10980514\n",
      "Data columns (total 10 columns):\n",
      " #   Column      Dtype  \n",
      "---  ------      -----  \n",
      " 0   Unnamed: 0  int64  \n",
      " 1   ID          int64  \n",
      " 2   Data        object \n",
      " 3   Hora        object \n",
      " 4   Estacao     object \n",
      " 5   Codigo      object \n",
      " 6   Poluente    object \n",
      " 7   Valor       float64\n",
      " 8   Unidade     object \n",
      " 9   Tipo        object \n",
      "dtypes: float64(1), int64(2), object(7)\n",
      "memory usage: 837.7+ MB\n"
     ]
    }
   ],
   "source": [
    "# Informações sobre tipos, nulos e estrutura geral\n",
    "df.info()"
   ]
  },
  {
   "cell_type": "markdown",
   "id": "701f6015",
   "metadata": {},
   "source": [
    "## Seção 5: Limpesa dos Dados\n"
   ]
  },
  {
   "cell_type": "markdown",
   "id": "b76d4a94",
   "metadata": {},
   "source": [
    "### Verificação de Valores Nulos\n",
    "\n",
    "Nesta etapa, verificamos a quantidade de valores ausentes (nulos) em cada coluna do dataset. Isso é importante para identificar problemas de qualidade nos dados que possam interferir nas análises. Os valores são apresentados em uma tabela com destaque em vermelho para facilitar a visualização das colunas mais afetadas.\n"
   ]
  },
  {
   "cell_type": "code",
   "execution_count": 6,
   "id": "2d7a7ba7",
   "metadata": {},
   "outputs": [
    {
     "data": {
      "text/html": [
       "<style type=\"text/css\">\n",
       "#T_23d2d_row0_col1, #T_23d2d_row1_col1, #T_23d2d_row2_col1, #T_23d2d_row3_col1, #T_23d2d_row4_col1, #T_23d2d_row5_col1, #T_23d2d_row6_col1, #T_23d2d_row7_col1, #T_23d2d_row8_col1, #T_23d2d_row9_col1 {\n",
       "  background-color: #fff5f0;\n",
       "  color: #000000;\n",
       "}\n",
       "</style>\n",
       "<table id=\"T_23d2d\">\n",
       "  <thead>\n",
       "    <tr>\n",
       "      <th class=\"blank level0\" >&nbsp;</th>\n",
       "      <th id=\"T_23d2d_level0_col0\" class=\"col_heading level0 col0\" >Coluna</th>\n",
       "      <th id=\"T_23d2d_level0_col1\" class=\"col_heading level0 col1\" >Valores Nulos</th>\n",
       "    </tr>\n",
       "  </thead>\n",
       "  <tbody>\n",
       "    <tr>\n",
       "      <th id=\"T_23d2d_level0_row0\" class=\"row_heading level0 row0\" >0</th>\n",
       "      <td id=\"T_23d2d_row0_col0\" class=\"data row0 col0\" >Unnamed: 0</td>\n",
       "      <td id=\"T_23d2d_row0_col1\" class=\"data row0 col1\" >0</td>\n",
       "    </tr>\n",
       "    <tr>\n",
       "      <th id=\"T_23d2d_level0_row1\" class=\"row_heading level0 row1\" >1</th>\n",
       "      <td id=\"T_23d2d_row1_col0\" class=\"data row1 col0\" >ID</td>\n",
       "      <td id=\"T_23d2d_row1_col1\" class=\"data row1 col1\" >0</td>\n",
       "    </tr>\n",
       "    <tr>\n",
       "      <th id=\"T_23d2d_level0_row2\" class=\"row_heading level0 row2\" >2</th>\n",
       "      <td id=\"T_23d2d_row2_col0\" class=\"data row2 col0\" >Data</td>\n",
       "      <td id=\"T_23d2d_row2_col1\" class=\"data row2 col1\" >0</td>\n",
       "    </tr>\n",
       "    <tr>\n",
       "      <th id=\"T_23d2d_level0_row3\" class=\"row_heading level0 row3\" >3</th>\n",
       "      <td id=\"T_23d2d_row3_col0\" class=\"data row3 col0\" >Hora</td>\n",
       "      <td id=\"T_23d2d_row3_col1\" class=\"data row3 col1\" >0</td>\n",
       "    </tr>\n",
       "    <tr>\n",
       "      <th id=\"T_23d2d_level0_row4\" class=\"row_heading level0 row4\" >4</th>\n",
       "      <td id=\"T_23d2d_row4_col0\" class=\"data row4 col0\" >Estacao</td>\n",
       "      <td id=\"T_23d2d_row4_col1\" class=\"data row4 col1\" >0</td>\n",
       "    </tr>\n",
       "    <tr>\n",
       "      <th id=\"T_23d2d_level0_row5\" class=\"row_heading level0 row5\" >5</th>\n",
       "      <td id=\"T_23d2d_row5_col0\" class=\"data row5 col0\" >Codigo</td>\n",
       "      <td id=\"T_23d2d_row5_col1\" class=\"data row5 col1\" >0</td>\n",
       "    </tr>\n",
       "    <tr>\n",
       "      <th id=\"T_23d2d_level0_row6\" class=\"row_heading level0 row6\" >6</th>\n",
       "      <td id=\"T_23d2d_row6_col0\" class=\"data row6 col0\" >Poluente</td>\n",
       "      <td id=\"T_23d2d_row6_col1\" class=\"data row6 col1\" >0</td>\n",
       "    </tr>\n",
       "    <tr>\n",
       "      <th id=\"T_23d2d_level0_row7\" class=\"row_heading level0 row7\" >7</th>\n",
       "      <td id=\"T_23d2d_row7_col0\" class=\"data row7 col0\" >Valor</td>\n",
       "      <td id=\"T_23d2d_row7_col1\" class=\"data row7 col1\" >0</td>\n",
       "    </tr>\n",
       "    <tr>\n",
       "      <th id=\"T_23d2d_level0_row8\" class=\"row_heading level0 row8\" >8</th>\n",
       "      <td id=\"T_23d2d_row8_col0\" class=\"data row8 col0\" >Unidade</td>\n",
       "      <td id=\"T_23d2d_row8_col1\" class=\"data row8 col1\" >0</td>\n",
       "    </tr>\n",
       "    <tr>\n",
       "      <th id=\"T_23d2d_level0_row9\" class=\"row_heading level0 row9\" >9</th>\n",
       "      <td id=\"T_23d2d_row9_col0\" class=\"data row9 col0\" >Tipo</td>\n",
       "      <td id=\"T_23d2d_row9_col1\" class=\"data row9 col1\" >0</td>\n",
       "    </tr>\n",
       "  </tbody>\n",
       "</table>\n"
      ],
      "text/plain": [
       "<pandas.io.formats.style.Styler at 0x1e2ffdc1df0>"
      ]
     },
     "execution_count": 6,
     "metadata": {},
     "output_type": "execute_result"
    }
   ],
   "source": [
    "# Calcula a quantidade de valores nulos por coluna\n",
    "valores_nulos = df.isnull().sum().reset_index()\n",
    "valores_nulos.columns = ['Coluna', 'Valores Nulos']\n",
    "\n",
    "# Exibe como uma tabela formatada\n",
    "valores_nulos.style.background_gradient(cmap='Reds').format(precision=0)\n"
   ]
  },
  {
   "cell_type": "markdown",
   "id": "3f9995f2",
   "metadata": {},
   "source": [
    "### 5.1 Conversão da Coluna de Datas\n",
    "\n",
    "Nesta etapa, verificamos se a coluna `Data` está no formato apropriado (`datetime`). Caso não esteja, realizamos a conversão utilizando a função `pd.to_datetime()`, que interpreta automaticamente os valores e converte para o tipo `datetime64`.\n",
    "\n",
    "Para preservar a integridade dos dados e manter a coluna `Data` pronta para análises (como ordenações ou filtragens por período), **mantemos o DataFrame original com o tipo `datetime`**.\n",
    "\n",
    " **Visualização:**  \n",
    "Criamos uma cópia do DataFrame chamada `df_formatado`, onde a coluna `Data` é formatada no padrão brasileiro (`DD/MM/YYYY`). Essa versão é ideal para ser utilizada em relatórios e exibições mais amigáveis.\n",
    "\n",
    " **Observação:**  \n",
    "Os valores originalmente estavam no formato `YYYY-MM-DD` (ex: `2015-01-02`). Após a conversão, continuam como tipo `datetime64` no DataFrame original, mas podem ser visualizados no formato `DD/MM/YYYY` na cópia formatada.\n",
    "\n"
   ]
  },
  {
   "cell_type": "code",
   "execution_count": 7,
   "id": "0cf643fe",
   "metadata": {},
   "outputs": [
    {
     "name": "stdout",
     "output_type": "stream",
     "text": [
      "Coluna 'Data' convertida para datetime.\n"
     ]
    },
    {
     "data": {
      "application/vnd.microsoft.datawrangler.viewer.v0+json": {
       "columns": [
        {
         "name": "index",
         "rawType": "int64",
         "type": "integer"
        },
        {
         "name": "Unnamed: 0",
         "rawType": "int64",
         "type": "integer"
        },
        {
         "name": "ID",
         "rawType": "int64",
         "type": "integer"
        },
        {
         "name": "Data",
         "rawType": "object",
         "type": "string"
        },
        {
         "name": "Hora",
         "rawType": "object",
         "type": "string"
        },
        {
         "name": "Estacao",
         "rawType": "object",
         "type": "string"
        },
        {
         "name": "Codigo",
         "rawType": "object",
         "type": "string"
        },
        {
         "name": "Poluente",
         "rawType": "object",
         "type": "string"
        },
        {
         "name": "Valor",
         "rawType": "float64",
         "type": "float"
        },
        {
         "name": "Unidade",
         "rawType": "object",
         "type": "string"
        },
        {
         "name": "Tipo",
         "rawType": "object",
         "type": "string"
        }
       ],
       "ref": "945aae13-9150-4f76-9051-a145c61fb5eb",
       "rows": [
        [
         "10980510",
         "10980510",
         "10980510",
         "01/02/2021",
         "01:00",
         "Tatuapé",
         "SP76",
         "SO2",
         "3.0",
         "ug/m3",
         "manual"
        ],
        [
         "10980511",
         "10980511",
         "10980511",
         "01/03/2021",
         "01:00",
         "Tatuapé",
         "SP76",
         "SO2",
         "3.0",
         "ug/m3",
         "manual"
        ],
        [
         "10980512",
         "10980512",
         "10980512",
         "01/04/2021",
         "01:00",
         "Tatuapé",
         "SP76",
         "SO2",
         "3.0",
         "ug/m3",
         "manual"
        ],
        [
         "10980513",
         "10980513",
         "10980513",
         "01/05/2021",
         "01:00",
         "Tatuapé",
         "SP76",
         "SO2",
         "5.0",
         "ug/m3",
         "manual"
        ],
        [
         "10980514",
         "10980514",
         "10980514",
         "01/10/2021",
         "01:00",
         "Tatuapé",
         "SP76",
         "SO2",
         "3.0",
         "ug/m3",
         "manual"
        ]
       ],
       "shape": {
        "columns": 10,
        "rows": 5
       }
      },
      "text/html": [
       "<div>\n",
       "<style scoped>\n",
       "    .dataframe tbody tr th:only-of-type {\n",
       "        vertical-align: middle;\n",
       "    }\n",
       "\n",
       "    .dataframe tbody tr th {\n",
       "        vertical-align: top;\n",
       "    }\n",
       "\n",
       "    .dataframe thead th {\n",
       "        text-align: right;\n",
       "    }\n",
       "</style>\n",
       "<table border=\"1\" class=\"dataframe\">\n",
       "  <thead>\n",
       "    <tr style=\"text-align: right;\">\n",
       "      <th></th>\n",
       "      <th>Unnamed: 0</th>\n",
       "      <th>ID</th>\n",
       "      <th>Data</th>\n",
       "      <th>Hora</th>\n",
       "      <th>Estacao</th>\n",
       "      <th>Codigo</th>\n",
       "      <th>Poluente</th>\n",
       "      <th>Valor</th>\n",
       "      <th>Unidade</th>\n",
       "      <th>Tipo</th>\n",
       "    </tr>\n",
       "  </thead>\n",
       "  <tbody>\n",
       "    <tr>\n",
       "      <th>10980510</th>\n",
       "      <td>10980510</td>\n",
       "      <td>10980510</td>\n",
       "      <td>01/02/2021</td>\n",
       "      <td>01:00</td>\n",
       "      <td>Tatuapé</td>\n",
       "      <td>SP76</td>\n",
       "      <td>SO2</td>\n",
       "      <td>3.0</td>\n",
       "      <td>ug/m3</td>\n",
       "      <td>manual</td>\n",
       "    </tr>\n",
       "    <tr>\n",
       "      <th>10980511</th>\n",
       "      <td>10980511</td>\n",
       "      <td>10980511</td>\n",
       "      <td>01/03/2021</td>\n",
       "      <td>01:00</td>\n",
       "      <td>Tatuapé</td>\n",
       "      <td>SP76</td>\n",
       "      <td>SO2</td>\n",
       "      <td>3.0</td>\n",
       "      <td>ug/m3</td>\n",
       "      <td>manual</td>\n",
       "    </tr>\n",
       "    <tr>\n",
       "      <th>10980512</th>\n",
       "      <td>10980512</td>\n",
       "      <td>10980512</td>\n",
       "      <td>01/04/2021</td>\n",
       "      <td>01:00</td>\n",
       "      <td>Tatuapé</td>\n",
       "      <td>SP76</td>\n",
       "      <td>SO2</td>\n",
       "      <td>3.0</td>\n",
       "      <td>ug/m3</td>\n",
       "      <td>manual</td>\n",
       "    </tr>\n",
       "    <tr>\n",
       "      <th>10980513</th>\n",
       "      <td>10980513</td>\n",
       "      <td>10980513</td>\n",
       "      <td>01/05/2021</td>\n",
       "      <td>01:00</td>\n",
       "      <td>Tatuapé</td>\n",
       "      <td>SP76</td>\n",
       "      <td>SO2</td>\n",
       "      <td>5.0</td>\n",
       "      <td>ug/m3</td>\n",
       "      <td>manual</td>\n",
       "    </tr>\n",
       "    <tr>\n",
       "      <th>10980514</th>\n",
       "      <td>10980514</td>\n",
       "      <td>10980514</td>\n",
       "      <td>01/10/2021</td>\n",
       "      <td>01:00</td>\n",
       "      <td>Tatuapé</td>\n",
       "      <td>SP76</td>\n",
       "      <td>SO2</td>\n",
       "      <td>3.0</td>\n",
       "      <td>ug/m3</td>\n",
       "      <td>manual</td>\n",
       "    </tr>\n",
       "  </tbody>\n",
       "</table>\n",
       "</div>"
      ],
      "text/plain": [
       "          Unnamed: 0        ID        Data   Hora  Estacao Codigo Poluente  \\\n",
       "10980510    10980510  10980510  01/02/2021  01:00  Tatuapé   SP76      SO2   \n",
       "10980511    10980511  10980511  01/03/2021  01:00  Tatuapé   SP76      SO2   \n",
       "10980512    10980512  10980512  01/04/2021  01:00  Tatuapé   SP76      SO2   \n",
       "10980513    10980513  10980513  01/05/2021  01:00  Tatuapé   SP76      SO2   \n",
       "10980514    10980514  10980514  01/10/2021  01:00  Tatuapé   SP76      SO2   \n",
       "\n",
       "          Valor Unidade    Tipo  \n",
       "10980510    3.0   ug/m3  manual  \n",
       "10980511    3.0   ug/m3  manual  \n",
       "10980512    3.0   ug/m3  manual  \n",
       "10980513    5.0   ug/m3  manual  \n",
       "10980514    3.0   ug/m3  manual  "
      ]
     },
     "execution_count": 7,
     "metadata": {},
     "output_type": "execute_result"
    }
   ],
   "source": [
    "# Verificando o tipo da coluna 'Data' e convertendo, se necessário\n",
    "if not pd.api.types.is_datetime64_any_dtype(df['Data']):\n",
    "    df['Data'] = pd.to_datetime(df['Data'], errors='coerce')\n",
    "    print(\"Coluna 'Data' convertida para datetime.\")\n",
    "else:\n",
    "    print(\"Coluna 'Data' já está no formato datetime.\")\n",
    "\n",
    "# Criando uma cópia do DataFrame para exibição com data formatada\n",
    "df_formatado = df.copy()\n",
    "df_formatado['Data'] = df_formatado['Data'].dt.strftime('%d/%m/%Y')\n",
    "\n",
    "df_formatado.tail()"
   ]
  },
  {
   "cell_type": "markdown",
   "id": "89b1b941",
   "metadata": {},
   "source": [
    "### 5.2 Verificação e Remoção de Duplicatas\n",
    "\n",
    "Nesta etapa, analisamos se o conjunto de dados continha **linhas duplicadas**, ou seja, registros idênticos em todas as colunas. Esse tipo de duplicação pode ocorrer por erro de registro ou falha na consolidação das informações e pode impactar negativamente as análises estatísticas.\n",
    "\n",
    " **Procedimentos realizados:**\n",
    "- Verificamos a presença de duplicatas utilizando `df.duplicated().sum()`.\n",
    "- Caso houvesse, seriam removidas com `df.drop_duplicates()`.\n",
    "\n",
    " **Resultado:**  \n",
    "A análise revelou que **não há linhas duplicadas** no conjunto de dados. Portanto, **nenhuma remoção foi necessária** nesta etapa.\n",
    "\n"
   ]
  },
  {
   "cell_type": "code",
   "execution_count": 8,
   "id": "f9f90553",
   "metadata": {},
   "outputs": [
    {
     "name": "stdout",
     "output_type": "stream",
     "text": [
      "Total de linhas duplicadas: 0\n",
      "Dataset após remoção de duplicatas: 10980515 linhas.\n"
     ]
    }
   ],
   "source": [
    "#  Verificando duplicatas\n",
    "duplicatas = df.duplicated().sum()\n",
    "print(f'Total de linhas duplicadas: {duplicatas}')\n",
    "\n",
    "#  Removendo duplicatas, se existirem\n",
    "df = df.drop_duplicates()\n",
    "print(f'Dataset após remoção de duplicatas: {df.shape[0]} linhas.')\n"
   ]
  },
  {
   "cell_type": "markdown",
   "id": "6aaf2c2b",
   "metadata": {},
   "source": [
    "### 5.3 Visualização dos Nomes das Colunas\n",
    "\n",
    "Nesta etapa, visualizamos os nomes de todas as colunas do dataset para avaliarmos se há necessidade de renomeá-las, tornando-as mais descritivas, legíveis ou consistentes com boas práticas de nomenclatura em ciência de dados.\n",
    "\n",
    "Após a inspeção, não houve necessidade de alteração dos nomes das colunas, pois todas já estão em português e são auto descritivas, o que facilita o entendimento e manipulação dos dados nas etapas seguintes da análise.\n",
    "\n",
    "O comando utilizado foi:\n",
    "```python\n",
    "df.columns.tolist()"
   ]
  },
  {
   "cell_type": "code",
   "execution_count": 9,
   "id": "16e1759b",
   "metadata": {},
   "outputs": [
    {
     "name": "stdout",
     "output_type": "stream",
     "text": [
      "Nome das colunas:\n",
      "['Unnamed: 0', 'ID', 'Data', 'Hora', 'Estacao', 'Codigo', 'Poluente', 'Valor', 'Unidade', 'Tipo']\n"
     ]
    }
   ],
   "source": [
    "# Exibe os nomes de todas as colunas do DataFrame\n",
    "print(\"Nome das colunas:\")\n",
    "print(df.columns.tolist())\n"
   ]
  },
  {
   "cell_type": "markdown",
   "id": "660fe5f5",
   "metadata": {},
   "source": [
    "### 5.4 Remoção de Coluna Redundante\n",
    "\n",
    "Durante a análise inicial das colunas, foi identificada a presença da coluna `Unnamed: 0`, que representa o índice do registro e contém os mesmos valores da coluna `ID`. Essa duplicidade torna a coluna redundante e, por isso, ela foi removida para manter o dataset mais limpo e organizado.\n",
    "\n",
    "```python\n",
    "df = df.drop(columns=['Unnamed: 0'])\n"
   ]
  },
  {
   "cell_type": "code",
   "execution_count": 10,
   "id": "348e8937",
   "metadata": {},
   "outputs": [
    {
     "name": "stdout",
     "output_type": "stream",
     "text": [
      "Coluna 'Unnamed: 0' removida por ser redundante.\n"
     ]
    }
   ],
   "source": [
    "# Remove espaços em branco dos nomes das colunas\n",
    "df.columns = df.columns.str.strip()\n",
    "\n",
    "# Verifica se há colunas com nome padrão gerado automaticamente (índice exportado)\n",
    "colunas_sem_nome = [col for col in df.columns if 'Unnamed: 0' in col]\n",
    "\n",
    "for coluna in colunas_sem_nome:\n",
    "    df = df.drop(columns=[coluna])\n",
    "    print(f\"Coluna '{coluna}' removida por ser redundante.\")\n",
    "# df = df.drop(columns=['Unnamed: 0'])"
   ]
  },
  {
   "cell_type": "code",
   "execution_count": 11,
   "id": "84e7a511",
   "metadata": {},
   "outputs": [
    {
     "data": {
      "application/vnd.microsoft.datawrangler.viewer.v0+json": {
       "columns": [
        {
         "name": "index",
         "rawType": "int64",
         "type": "integer"
        },
        {
         "name": "ID",
         "rawType": "int64",
         "type": "integer"
        },
        {
         "name": "Data",
         "rawType": "datetime64[ns]",
         "type": "datetime"
        },
        {
         "name": "Hora",
         "rawType": "object",
         "type": "string"
        },
        {
         "name": "Estacao",
         "rawType": "object",
         "type": "string"
        },
        {
         "name": "Codigo",
         "rawType": "object",
         "type": "string"
        },
        {
         "name": "Poluente",
         "rawType": "object",
         "type": "string"
        },
        {
         "name": "Valor",
         "rawType": "float64",
         "type": "float"
        },
        {
         "name": "Unidade",
         "rawType": "object",
         "type": "string"
        },
        {
         "name": "Tipo",
         "rawType": "object",
         "type": "string"
        }
       ],
       "ref": "0bf4d829-76c2-4884-807f-2fe32545fc36",
       "rows": [
        [
         "0",
         "0",
         "2015-01-01 00:00:00",
         "01:00",
         "Americana - Vila Santa Maria",
         "SP01",
         "MP10",
         "65.0",
         "ug/m3",
         "automatica"
        ],
        [
         "1",
         "1",
         "2015-01-01 00:00:00",
         "02:00",
         "Americana - Vila Santa Maria",
         "SP01",
         "MP10",
         "98.0",
         "ug/m3",
         "automatica"
        ],
        [
         "2",
         "2",
         "2015-01-01 00:00:00",
         "03:00",
         "Americana - Vila Santa Maria",
         "SP01",
         "MP10",
         "79.0",
         "ug/m3",
         "automatica"
        ],
        [
         "3",
         "3",
         "2015-01-01 00:00:00",
         "04:00",
         "Americana - Vila Santa Maria",
         "SP01",
         "MP10",
         "53.0",
         "ug/m3",
         "automatica"
        ],
        [
         "4",
         "4",
         "2015-01-01 00:00:00",
         "05:00",
         "Americana - Vila Santa Maria",
         "SP01",
         "MP10",
         "35.0",
         "ug/m3",
         "automatica"
        ]
       ],
       "shape": {
        "columns": 9,
        "rows": 5
       }
      },
      "text/html": [
       "<div>\n",
       "<style scoped>\n",
       "    .dataframe tbody tr th:only-of-type {\n",
       "        vertical-align: middle;\n",
       "    }\n",
       "\n",
       "    .dataframe tbody tr th {\n",
       "        vertical-align: top;\n",
       "    }\n",
       "\n",
       "    .dataframe thead th {\n",
       "        text-align: right;\n",
       "    }\n",
       "</style>\n",
       "<table border=\"1\" class=\"dataframe\">\n",
       "  <thead>\n",
       "    <tr style=\"text-align: right;\">\n",
       "      <th></th>\n",
       "      <th>ID</th>\n",
       "      <th>Data</th>\n",
       "      <th>Hora</th>\n",
       "      <th>Estacao</th>\n",
       "      <th>Codigo</th>\n",
       "      <th>Poluente</th>\n",
       "      <th>Valor</th>\n",
       "      <th>Unidade</th>\n",
       "      <th>Tipo</th>\n",
       "    </tr>\n",
       "  </thead>\n",
       "  <tbody>\n",
       "    <tr>\n",
       "      <th>0</th>\n",
       "      <td>0</td>\n",
       "      <td>2015-01-01</td>\n",
       "      <td>01:00</td>\n",
       "      <td>Americana - Vila Santa Maria</td>\n",
       "      <td>SP01</td>\n",
       "      <td>MP10</td>\n",
       "      <td>65.0</td>\n",
       "      <td>ug/m3</td>\n",
       "      <td>automatica</td>\n",
       "    </tr>\n",
       "    <tr>\n",
       "      <th>1</th>\n",
       "      <td>1</td>\n",
       "      <td>2015-01-01</td>\n",
       "      <td>02:00</td>\n",
       "      <td>Americana - Vila Santa Maria</td>\n",
       "      <td>SP01</td>\n",
       "      <td>MP10</td>\n",
       "      <td>98.0</td>\n",
       "      <td>ug/m3</td>\n",
       "      <td>automatica</td>\n",
       "    </tr>\n",
       "    <tr>\n",
       "      <th>2</th>\n",
       "      <td>2</td>\n",
       "      <td>2015-01-01</td>\n",
       "      <td>03:00</td>\n",
       "      <td>Americana - Vila Santa Maria</td>\n",
       "      <td>SP01</td>\n",
       "      <td>MP10</td>\n",
       "      <td>79.0</td>\n",
       "      <td>ug/m3</td>\n",
       "      <td>automatica</td>\n",
       "    </tr>\n",
       "    <tr>\n",
       "      <th>3</th>\n",
       "      <td>3</td>\n",
       "      <td>2015-01-01</td>\n",
       "      <td>04:00</td>\n",
       "      <td>Americana - Vila Santa Maria</td>\n",
       "      <td>SP01</td>\n",
       "      <td>MP10</td>\n",
       "      <td>53.0</td>\n",
       "      <td>ug/m3</td>\n",
       "      <td>automatica</td>\n",
       "    </tr>\n",
       "    <tr>\n",
       "      <th>4</th>\n",
       "      <td>4</td>\n",
       "      <td>2015-01-01</td>\n",
       "      <td>05:00</td>\n",
       "      <td>Americana - Vila Santa Maria</td>\n",
       "      <td>SP01</td>\n",
       "      <td>MP10</td>\n",
       "      <td>35.0</td>\n",
       "      <td>ug/m3</td>\n",
       "      <td>automatica</td>\n",
       "    </tr>\n",
       "  </tbody>\n",
       "</table>\n",
       "</div>"
      ],
      "text/plain": [
       "   ID       Data   Hora                       Estacao Codigo Poluente  Valor  \\\n",
       "0   0 2015-01-01  01:00  Americana - Vila Santa Maria   SP01     MP10   65.0   \n",
       "1   1 2015-01-01  02:00  Americana - Vila Santa Maria   SP01     MP10   98.0   \n",
       "2   2 2015-01-01  03:00  Americana - Vila Santa Maria   SP01     MP10   79.0   \n",
       "3   3 2015-01-01  04:00  Americana - Vila Santa Maria   SP01     MP10   53.0   \n",
       "4   4 2015-01-01  05:00  Americana - Vila Santa Maria   SP01     MP10   35.0   \n",
       "\n",
       "  Unidade        Tipo  \n",
       "0   ug/m3  automatica  \n",
       "1   ug/m3  automatica  \n",
       "2   ug/m3  automatica  \n",
       "3   ug/m3  automatica  \n",
       "4   ug/m3  automatica  "
      ]
     },
     "execution_count": 11,
     "metadata": {},
     "output_type": "execute_result"
    }
   ],
   "source": [
    "df.head()"
   ]
  },
  {
   "cell_type": "markdown",
   "id": "9c6abc28",
   "metadata": {},
   "source": [
    "## Seção 6: Manipulação dos Dados"
   ]
  },
  {
   "cell_type": "markdown",
   "id": "87d882a6",
   "metadata": {},
   "source": [
    "### 6.1 Criação de Amostras Aleatórias\n",
    "\n",
    "Nesta etapa, foram geradas duas amostras aleatórias do dataset original, cada uma com **100 registros**.  \n",
    "Essas amostras podem ser utilizadas em etapas posteriores de **modelagem preditiva**, como **treinamento** e **teste de modelos de machine learning**.\n",
    "\n",
    "A separação aleatória ajuda a garantir que os dados estejam distribuídos de forma **representativa**, o que é essencial para obter **modelos mais robustos e generalizáveis**.\n"
   ]
  },
  {
   "cell_type": "code",
   "execution_count": 12,
   "id": "7a4afc94",
   "metadata": {},
   "outputs": [],
   "source": [
    "# Criação de duas amostras aleatórias com 100 registros cada\n",
    "amostra1 = df.sample(n=100, random_state=42).reset_index(drop=True)\n",
    "amostra2 = df.sample(n=100, random_state=7).reset_index(drop=True)\n"
   ]
  },
  {
   "cell_type": "markdown",
   "id": "26f53416",
   "metadata": {},
   "source": [
    "### Amostra 1 – Para Treinamento (exemplo)"
   ]
  },
  {
   "cell_type": "code",
   "execution_count": 13,
   "id": "f0ad69be",
   "metadata": {},
   "outputs": [
    {
     "data": {
      "application/vnd.microsoft.datawrangler.viewer.v0+json": {
       "columns": [
        {
         "name": "index",
         "rawType": "int64",
         "type": "integer"
        },
        {
         "name": "ID",
         "rawType": "int64",
         "type": "integer"
        },
        {
         "name": "Data",
         "rawType": "datetime64[ns]",
         "type": "datetime"
        },
        {
         "name": "Hora",
         "rawType": "object",
         "type": "string"
        },
        {
         "name": "Estacao",
         "rawType": "object",
         "type": "string"
        },
        {
         "name": "Codigo",
         "rawType": "object",
         "type": "string"
        },
        {
         "name": "Poluente",
         "rawType": "object",
         "type": "string"
        },
        {
         "name": "Valor",
         "rawType": "float64",
         "type": "float"
        },
        {
         "name": "Unidade",
         "rawType": "object",
         "type": "string"
        },
        {
         "name": "Tipo",
         "rawType": "object",
         "type": "string"
        }
       ],
       "ref": "b4ac25c0-56aa-43a1-8033-9a9fb6560edf",
       "rows": [
        [
         "0",
         "2363283",
         "2016-11-12 00:00:00",
         "10:00",
         "Piracicaba",
         "SP51",
         "NO2",
         "7.0",
         "ug/m3",
         "automatica"
        ],
        [
         "1",
         "6841388",
         "2019-07-04 00:00:00",
         "06:00",
         "Guaratinguetá",
         "SP04",
         "MP10",
         "34.0",
         "ug/m3",
         "automatica"
        ],
        [
         "2",
         "5665143",
         "2018-01-14 00:00:00",
         "13:00",
         "Osasco",
         "SP42",
         "MP10",
         "12.0",
         "ug/m3",
         "automatica"
        ],
        [
         "3",
         "3262888",
         "2017-07-08 00:00:00",
         "12:00",
         "Cubatão - Centro",
         "SP18",
         "NO",
         "4.0",
         "ug/m3",
         "automatica"
        ],
        [
         "4",
         "7563299",
         "2019-09-10 00:00:00",
         "17:00",
         "Ribeirão Preto",
         "SP79",
         "O3",
         "93.0",
         "ug/m3",
         "automatica"
        ]
       ],
       "shape": {
        "columns": 9,
        "rows": 5
       }
      },
      "text/html": [
       "<div>\n",
       "<style scoped>\n",
       "    .dataframe tbody tr th:only-of-type {\n",
       "        vertical-align: middle;\n",
       "    }\n",
       "\n",
       "    .dataframe tbody tr th {\n",
       "        vertical-align: top;\n",
       "    }\n",
       "\n",
       "    .dataframe thead th {\n",
       "        text-align: right;\n",
       "    }\n",
       "</style>\n",
       "<table border=\"1\" class=\"dataframe\">\n",
       "  <thead>\n",
       "    <tr style=\"text-align: right;\">\n",
       "      <th></th>\n",
       "      <th>ID</th>\n",
       "      <th>Data</th>\n",
       "      <th>Hora</th>\n",
       "      <th>Estacao</th>\n",
       "      <th>Codigo</th>\n",
       "      <th>Poluente</th>\n",
       "      <th>Valor</th>\n",
       "      <th>Unidade</th>\n",
       "      <th>Tipo</th>\n",
       "    </tr>\n",
       "  </thead>\n",
       "  <tbody>\n",
       "    <tr>\n",
       "      <th>0</th>\n",
       "      <td>2363283</td>\n",
       "      <td>2016-11-12</td>\n",
       "      <td>10:00</td>\n",
       "      <td>Piracicaba</td>\n",
       "      <td>SP51</td>\n",
       "      <td>NO2</td>\n",
       "      <td>7.0</td>\n",
       "      <td>ug/m3</td>\n",
       "      <td>automatica</td>\n",
       "    </tr>\n",
       "    <tr>\n",
       "      <th>1</th>\n",
       "      <td>6841388</td>\n",
       "      <td>2019-07-04</td>\n",
       "      <td>06:00</td>\n",
       "      <td>Guaratinguetá</td>\n",
       "      <td>SP04</td>\n",
       "      <td>MP10</td>\n",
       "      <td>34.0</td>\n",
       "      <td>ug/m3</td>\n",
       "      <td>automatica</td>\n",
       "    </tr>\n",
       "    <tr>\n",
       "      <th>2</th>\n",
       "      <td>5665143</td>\n",
       "      <td>2018-01-14</td>\n",
       "      <td>13:00</td>\n",
       "      <td>Osasco</td>\n",
       "      <td>SP42</td>\n",
       "      <td>MP10</td>\n",
       "      <td>12.0</td>\n",
       "      <td>ug/m3</td>\n",
       "      <td>automatica</td>\n",
       "    </tr>\n",
       "    <tr>\n",
       "      <th>3</th>\n",
       "      <td>3262888</td>\n",
       "      <td>2017-07-08</td>\n",
       "      <td>12:00</td>\n",
       "      <td>Cubatão - Centro</td>\n",
       "      <td>SP18</td>\n",
       "      <td>NO</td>\n",
       "      <td>4.0</td>\n",
       "      <td>ug/m3</td>\n",
       "      <td>automatica</td>\n",
       "    </tr>\n",
       "    <tr>\n",
       "      <th>4</th>\n",
       "      <td>7563299</td>\n",
       "      <td>2019-09-10</td>\n",
       "      <td>17:00</td>\n",
       "      <td>Ribeirão Preto</td>\n",
       "      <td>SP79</td>\n",
       "      <td>O3</td>\n",
       "      <td>93.0</td>\n",
       "      <td>ug/m3</td>\n",
       "      <td>automatica</td>\n",
       "    </tr>\n",
       "  </tbody>\n",
       "</table>\n",
       "</div>"
      ],
      "text/plain": [
       "        ID       Data   Hora           Estacao Codigo Poluente  Valor Unidade  \\\n",
       "0  2363283 2016-11-12  10:00        Piracicaba   SP51      NO2    7.0   ug/m3   \n",
       "1  6841388 2019-07-04  06:00     Guaratinguetá   SP04     MP10   34.0   ug/m3   \n",
       "2  5665143 2018-01-14  13:00            Osasco   SP42     MP10   12.0   ug/m3   \n",
       "3  3262888 2017-07-08  12:00  Cubatão - Centro   SP18       NO    4.0   ug/m3   \n",
       "4  7563299 2019-09-10  17:00    Ribeirão Preto   SP79       O3   93.0   ug/m3   \n",
       "\n",
       "         Tipo  \n",
       "0  automatica  \n",
       "1  automatica  \n",
       "2  automatica  \n",
       "3  automatica  \n",
       "4  automatica  "
      ]
     },
     "execution_count": 13,
     "metadata": {},
     "output_type": "execute_result"
    }
   ],
   "source": [
    "amostra1.head()"
   ]
  },
  {
   "cell_type": "markdown",
   "id": "794bf53c",
   "metadata": {},
   "source": [
    "### Amostra 2 – Para Teste (exemplo)"
   ]
  },
  {
   "cell_type": "code",
   "execution_count": 14,
   "id": "a409a889",
   "metadata": {},
   "outputs": [
    {
     "data": {
      "application/vnd.microsoft.datawrangler.viewer.v0+json": {
       "columns": [
        {
         "name": "index",
         "rawType": "int64",
         "type": "integer"
        },
        {
         "name": "ID",
         "rawType": "int64",
         "type": "integer"
        },
        {
         "name": "Data",
         "rawType": "datetime64[ns]",
         "type": "datetime"
        },
        {
         "name": "Hora",
         "rawType": "object",
         "type": "string"
        },
        {
         "name": "Estacao",
         "rawType": "object",
         "type": "string"
        },
        {
         "name": "Codigo",
         "rawType": "object",
         "type": "string"
        },
        {
         "name": "Poluente",
         "rawType": "object",
         "type": "string"
        },
        {
         "name": "Valor",
         "rawType": "float64",
         "type": "float"
        },
        {
         "name": "Unidade",
         "rawType": "object",
         "type": "string"
        },
        {
         "name": "Tipo",
         "rawType": "object",
         "type": "string"
        }
       ],
       "ref": "077e907a-706b-496d-b9d1-7d84ffb39017",
       "rows": [
        [
         "0",
         "5578601",
         "2018-07-06 00:00:00",
         "05:00",
         "Marília",
         "SP38",
         "NO2",
         "7.0",
         "ug/m3",
         "automatica"
        ],
        [
         "1",
         "5668961",
         "2018-06-24 00:00:00",
         "21:00",
         "Osasco",
         "SP42",
         "MP10",
         "60.0",
         "ug/m3",
         "automatica"
        ],
        [
         "2",
         "3108557",
         "2017-01-20 00:00:00",
         "23:55",
         "Catanduva",
         "SP13",
         "NO",
         "0.0",
         "ug/m3",
         "automatica"
        ],
        [
         "3",
         "8586530",
         "2020-01-26 00:00:00",
         "11:00",
         "Jaú",
         "SP33",
         "MP10",
         "15.0",
         "ug/m3",
         "automatica"
        ],
        [
         "4",
         "2759221",
         "2016-08-02 00:00:00",
         "08:00",
         "Sorocaba",
         "SP73",
         "O3",
         "5.0",
         "ug/m3",
         "automatica"
        ]
       ],
       "shape": {
        "columns": 9,
        "rows": 5
       }
      },
      "text/html": [
       "<div>\n",
       "<style scoped>\n",
       "    .dataframe tbody tr th:only-of-type {\n",
       "        vertical-align: middle;\n",
       "    }\n",
       "\n",
       "    .dataframe tbody tr th {\n",
       "        vertical-align: top;\n",
       "    }\n",
       "\n",
       "    .dataframe thead th {\n",
       "        text-align: right;\n",
       "    }\n",
       "</style>\n",
       "<table border=\"1\" class=\"dataframe\">\n",
       "  <thead>\n",
       "    <tr style=\"text-align: right;\">\n",
       "      <th></th>\n",
       "      <th>ID</th>\n",
       "      <th>Data</th>\n",
       "      <th>Hora</th>\n",
       "      <th>Estacao</th>\n",
       "      <th>Codigo</th>\n",
       "      <th>Poluente</th>\n",
       "      <th>Valor</th>\n",
       "      <th>Unidade</th>\n",
       "      <th>Tipo</th>\n",
       "    </tr>\n",
       "  </thead>\n",
       "  <tbody>\n",
       "    <tr>\n",
       "      <th>0</th>\n",
       "      <td>5578601</td>\n",
       "      <td>2018-07-06</td>\n",
       "      <td>05:00</td>\n",
       "      <td>Marília</td>\n",
       "      <td>SP38</td>\n",
       "      <td>NO2</td>\n",
       "      <td>7.0</td>\n",
       "      <td>ug/m3</td>\n",
       "      <td>automatica</td>\n",
       "    </tr>\n",
       "    <tr>\n",
       "      <th>1</th>\n",
       "      <td>5668961</td>\n",
       "      <td>2018-06-24</td>\n",
       "      <td>21:00</td>\n",
       "      <td>Osasco</td>\n",
       "      <td>SP42</td>\n",
       "      <td>MP10</td>\n",
       "      <td>60.0</td>\n",
       "      <td>ug/m3</td>\n",
       "      <td>automatica</td>\n",
       "    </tr>\n",
       "    <tr>\n",
       "      <th>2</th>\n",
       "      <td>3108557</td>\n",
       "      <td>2017-01-20</td>\n",
       "      <td>23:55</td>\n",
       "      <td>Catanduva</td>\n",
       "      <td>SP13</td>\n",
       "      <td>NO</td>\n",
       "      <td>0.0</td>\n",
       "      <td>ug/m3</td>\n",
       "      <td>automatica</td>\n",
       "    </tr>\n",
       "    <tr>\n",
       "      <th>3</th>\n",
       "      <td>8586530</td>\n",
       "      <td>2020-01-26</td>\n",
       "      <td>11:00</td>\n",
       "      <td>Jaú</td>\n",
       "      <td>SP33</td>\n",
       "      <td>MP10</td>\n",
       "      <td>15.0</td>\n",
       "      <td>ug/m3</td>\n",
       "      <td>automatica</td>\n",
       "    </tr>\n",
       "    <tr>\n",
       "      <th>4</th>\n",
       "      <td>2759221</td>\n",
       "      <td>2016-08-02</td>\n",
       "      <td>08:00</td>\n",
       "      <td>Sorocaba</td>\n",
       "      <td>SP73</td>\n",
       "      <td>O3</td>\n",
       "      <td>5.0</td>\n",
       "      <td>ug/m3</td>\n",
       "      <td>automatica</td>\n",
       "    </tr>\n",
       "  </tbody>\n",
       "</table>\n",
       "</div>"
      ],
      "text/plain": [
       "        ID       Data   Hora    Estacao Codigo Poluente  Valor Unidade  \\\n",
       "0  5578601 2018-07-06  05:00    Marília   SP38      NO2    7.0   ug/m3   \n",
       "1  5668961 2018-06-24  21:00     Osasco   SP42     MP10   60.0   ug/m3   \n",
       "2  3108557 2017-01-20  23:55  Catanduva   SP13       NO    0.0   ug/m3   \n",
       "3  8586530 2020-01-26  11:00        Jaú   SP33     MP10   15.0   ug/m3   \n",
       "4  2759221 2016-08-02  08:00   Sorocaba   SP73       O3    5.0   ug/m3   \n",
       "\n",
       "         Tipo  \n",
       "0  automatica  \n",
       "1  automatica  \n",
       "2  automatica  \n",
       "3  automatica  \n",
       "4  automatica  "
      ]
     },
     "execution_count": 14,
     "metadata": {},
     "output_type": "execute_result"
    }
   ],
   "source": [
    "amostra2.head()"
   ]
  },
  {
   "cell_type": "markdown",
   "id": "bf59d147",
   "metadata": {},
   "source": [
    "### 6.2 Agrupamento por Estação\n",
    "\n",
    "Nesta etapa, realizamos um agrupamento por **estação de monitoramento** (`Estacao`) com o objetivo de calcular a **média dos valores dos poluentes registrados** em cada uma. Esse tipo de análise permite identificar **quais localidades apresentam maior concentração média de poluentes**, o que pode ser útil para ações de monitoramento ambiental e saúde pública.\n",
    "\n",
    "```python\n",
    "# Agrupamento por estação para calcular a média dos valores dos poluentes\n",
    "media_poluicao_estacao = df.groupby('Estacao')['Valor'].mean().sort_values(ascending=False)\n",
    "\n",
    "# Exibe as médias em ordem decrescente\n",
    "media_poluicao_estacao\n"
   ]
  },
  {
   "cell_type": "code",
   "execution_count": 15,
   "id": "b2d62199",
   "metadata": {},
   "outputs": [
    {
     "data": {
      "application/vnd.microsoft.datawrangler.viewer.v0+json": {
       "columns": [
        {
         "name": "Estacao",
         "rawType": "object",
         "type": "string"
        },
        {
         "name": "Valor",
         "rawType": "float64",
         "type": "float"
        }
       ],
       "ref": "4006f535-5d5a-4b5b-a86c-964567212783",
       "rows": [
        [
         "Santo André - Paço Municipal",
         "436.69641991970855"
        ],
        [
         "Campinas - Centro",
         "411.97684551875096"
        ],
        [
         "Taboão da Serra",
         "411.53344511916174"
        ],
        [
         "Osasco",
         "242.8483370829274"
        ],
        [
         "Santo Amaro",
         "235.99193480030732"
        ],
        [
         "Mooca",
         "222.43633536517692"
        ],
        [
         "Congonhas",
         "221.78499976591598"
        ],
        [
         "Pinheiros",
         "169.89704468117006"
        ],
        [
         "Carapicuíba",
         "169.82966343824467"
        ],
        [
         "Marg. Tietê - Pte dos Remédios",
         "169.67541426381422"
        ],
        [
         "Cerqueira César",
         "166.28789577980973"
        ],
        [
         "São Bernardo do Campo - Centro",
         "165.19566961587876"
        ],
        [
         "Grajaú - Parelheiros",
         "153.9989967481402"
        ],
        [
         "São Caetano do Sul",
         "137.76175185485133"
        ],
        [
         "Parque Dom Pedro II",
         "124.0472619329781"
        ],
        [
         "Ribeirão Preto",
         "99.774953989463"
        ],
        [
         "São José dos Campos - Jardim Satélite",
         "87.60666799276495"
        ],
        [
         "Ibirapuera",
         "75.8267264503841"
        ],
        [
         "Santa Gertrudes - Jd. Luciana",
         "75.71954674220963"
        ],
        [
         "Taubaté",
         "65.1948290979392"
        ],
        [
         "Guarulhos - Pimentas",
         "64.76879972973325"
        ],
        [
         "Cid.Universitária USP - IPEN",
         "59.23093845583789"
        ],
        [
         "São Bernardo do Campo",
         "51.33482142857143"
        ],
        [
         "Cubatão - Vila Parisi",
         "47.06465817852758"
        ],
        [
         "Ribeirão Preto - Campos Elíseos",
         "45.370370370370374"
        ],
        [
         "Americana",
         "43.41523206900209"
        ],
        [
         "Santa Gertrudes",
         "39.89499737880181"
        ],
        [
         "Itaquera",
         "39.076446797865245"
        ],
        [
         "Cordeirópolis - Módolo",
         "38.81163434903047"
        ],
        [
         "Barretos - América",
         "38.054054054054056"
        ],
        [
         "Americana - Vila Santa Maria",
         "36.011009732360094"
        ],
        [
         "Araçatuba",
         "35.674018970019475"
        ],
        [
         "Rio Claro - Jardim Guanabara",
         "35.01718996928765"
        ],
        [
         "Piracicaba - Algodoal",
         "34.07222222222222"
        ],
        [
         "Guarujá - Vicente de Carvalho",
         "33.270833333333336"
        ],
        [
         "Jaboticabal - Jd Kennedy",
         "33.22697368421053"
        ],
        [
         "Perus",
         "32.92769761606023"
        ],
        [
         "Limeira - Boa Vista",
         "31.764285714285716"
        ],
        [
         "Diadema",
         "30.484790998279628"
        ],
        [
         "Nossa Senhora do Ó",
         "30.28907456260312"
        ],
        [
         "Araraquara",
         "30.215823554361656"
        ],
        [
         "Catanduva",
         "29.736475493467314"
        ],
        [
         "Limeira",
         "29.500008972955513"
        ],
        [
         "Santana",
         "29.11477639548801"
        ],
        [
         "Capão Redondo",
         "28.717347108123807"
        ],
        [
         "Itaim Paulista",
         "28.439847081937884"
        ],
        [
         "Guarulhos - Paço Municipal",
         "27.96042694700708"
        ],
        [
         "Campinas - Taquaral",
         "27.70745279815065"
        ],
        [
         "Jundiaí",
         "27.70251695644345"
        ],
        [
         "Mogi das Cruzes - Centro",
         "27.668111114704267"
        ]
       ],
       "shape": {
        "columns": 1,
        "rows": 87
       }
      },
      "text/plain": [
       "Estacao\n",
       "Santo André - Paço Municipal    436.696420\n",
       "Campinas - Centro               411.976846\n",
       "Taboão da Serra                 411.533445\n",
       "Osasco                          242.848337\n",
       "Santo Amaro                     235.991935\n",
       "                                   ...    \n",
       "Salto - Centro                   10.842105\n",
       "Itu - Centro                      9.904321\n",
       "Taubaté - Centro                  9.876404\n",
       "Franca - Centro                   3.937500\n",
       "Paulínia - João Aranha            3.413793\n",
       "Name: Valor, Length: 87, dtype: float64"
      ]
     },
     "execution_count": 15,
     "metadata": {},
     "output_type": "execute_result"
    }
   ],
   "source": [
    "# Agrupamento por estação para calcular a média dos valores dos poluentes\n",
    "media_poluicao_estacao = df.groupby('Estacao')['Valor'].mean().sort_values(ascending=False)\n",
    "\n",
    "# Exibe as médias em ordem decrescente\n",
    "media_poluicao_estacao\n"
   ]
  },
  {
   "cell_type": "markdown",
   "id": "2803e0cb",
   "metadata": {},
   "source": [
    "### 5.3 Filtro de Registros com Valor Acima da Média\n",
    "\n",
    "Nesta etapa, aplicamos um filtro para selecionar os registros cuja concentração de poluentes (`Valor`) está **acima da média** do conjunto de dados. Os registros foram organizados em **ordem decrescente**, permitindo identificar os casos mais críticos de poluição.\n",
    "\n",
    "Este tipo de análise é importante para destacar os pontos fora da curva, que podem representar eventos de poluição intensa ou falhas operacionais em estações de medição.\n",
    "\n",
    "```python\n",
    "# Calcula a média dos valores de poluentes\n",
    "media_valor = df['Valor'].mean()\n",
    "\n",
    "# Filtra os registros acima da média e ordena em ordem decrescente\n",
    "acima_da_media = df[df['Valor'] > media_valor].sort_values(by='Valor', ascending=False)\n",
    "\n",
    "# Exibe as 10 primeiras linhas filtradas\n",
    "print(f'O valor médio de poluição é: {media_valor:.2f}')\n",
    "acima_da_media.head(10)\n",
    "\n"
   ]
  },
  {
   "cell_type": "code",
   "execution_count": 16,
   "id": "6006fa3b",
   "metadata": {},
   "outputs": [
    {
     "name": "stdout",
     "output_type": "stream",
     "text": [
      "O valor médio de poluição é: 83.31\n"
     ]
    },
    {
     "data": {
      "application/vnd.microsoft.datawrangler.viewer.v0+json": {
       "columns": [
        {
         "name": "index",
         "rawType": "int64",
         "type": "integer"
        },
        {
         "name": "ID",
         "rawType": "int64",
         "type": "integer"
        },
        {
         "name": "Data",
         "rawType": "datetime64[ns]",
         "type": "datetime"
        },
        {
         "name": "Hora",
         "rawType": "object",
         "type": "string"
        },
        {
         "name": "Estacao",
         "rawType": "object",
         "type": "string"
        },
        {
         "name": "Codigo",
         "rawType": "object",
         "type": "string"
        },
        {
         "name": "Poluente",
         "rawType": "object",
         "type": "string"
        },
        {
         "name": "Valor",
         "rawType": "float64",
         "type": "float"
        },
        {
         "name": "Unidade",
         "rawType": "object",
         "type": "string"
        },
        {
         "name": "Tipo",
         "rawType": "object",
         "type": "string"
        }
       ],
       "ref": "1b393ab4-c13b-415b-84e0-511f437a4419",
       "rows": [
        [
         "1662796",
         "1662796",
         "2016-06-17 00:00:00",
         "23:00",
         "Congonhas",
         "SP16",
         "CO",
         "9981.291759",
         "ug/m3",
         "automatica"
        ],
        [
         "2668753",
         "2668753",
         "2016-06-17 00:00:00",
         "22:00",
         "São Caetano do Sul",
         "SP67",
         "CO",
         "9981.291759",
         "ug/m3",
         "automatica"
        ],
        [
         "341211",
         "341211",
         "2015-01-23 00:00:00",
         "08:00",
         "Cubatão - Centro",
         "SP18",
         "SO2",
         "9645.0",
         "ug/m3",
         "automatica"
        ],
        [
         "1662797",
         "1662797",
         "2016-06-17 00:00:00",
         "23:55",
         "Congonhas",
         "SP16",
         "CO",
         "9606.993318",
         "ug/m3",
         "automatica"
        ],
        [
         "2426023",
         "2426023",
         "2016-06-17 00:00:00",
         "21:00",
         "Santo André - Paço Municipal",
         "SP62",
         "CO",
         "9482.227171",
         "ug/m3",
         "automatica"
        ],
        [
         "2426025",
         "2426025",
         "2016-06-17 00:00:00",
         "23:00",
         "Santo André - Paço Municipal",
         "SP62",
         "CO",
         "9107.928731",
         "ug/m3",
         "automatica"
        ],
        [
         "4270348",
         "4270348",
         "2017-08-08 00:00:00",
         "23:00",
         "Santo André - Paço Municipal",
         "SP62",
         "CO",
         "9107.928731",
         "ug/m3",
         "automatica"
        ],
        [
         "1229639",
         "1229639",
         "2015-09-01 00:00:00",
         "07:00",
         "São Caetano do Sul",
         "SP67",
         "CO",
         "8983.162584",
         "ug/m3",
         "automatica"
        ],
        [
         "4270346",
         "4270346",
         "2017-08-08 00:00:00",
         "21:00",
         "Santo André - Paço Municipal",
         "SP62",
         "CO",
         "8858.396437",
         "ug/m3",
         "automatica"
        ],
        [
         "2426022",
         "2426022",
         "2016-06-17 00:00:00",
         "20:00",
         "Santo André - Paço Municipal",
         "SP62",
         "CO",
         "8858.396437",
         "ug/m3",
         "automatica"
        ],
        [
         "2668752",
         "2668752",
         "2016-06-17 00:00:00",
         "21:00",
         "São Caetano do Sul",
         "SP67",
         "CO",
         "8858.396437",
         "ug/m3",
         "automatica"
        ],
        [
         "1325392",
         "1325392",
         "2015-08-07 00:00:00",
         "22:00",
         "Taboão da Serra",
         "SP75",
         "CO",
         "8733.63029",
         "ug/m3",
         "automatica"
        ],
        [
         "7809188",
         "7809188",
         "2019-06-07 00:00:00",
         "23:55",
         "São Caetano do Sul",
         "SP67",
         "CO",
         "8733.63029",
         "ug/m3",
         "automatica"
        ],
        [
         "2668756",
         "2668756",
         "2016-06-18 00:00:00",
         "01:00",
         "São Caetano do Sul",
         "SP67",
         "CO",
         "8484.097996",
         "ug/m3",
         "automatica"
        ],
        [
         "2426024",
         "2426024",
         "2016-06-17 00:00:00",
         "22:00",
         "Santo André - Paço Municipal",
         "SP62",
         "CO",
         "8484.097996",
         "ug/m3",
         "automatica"
        ],
        [
         "2668754",
         "2668754",
         "2016-06-17 00:00:00",
         "23:00",
         "São Caetano do Sul",
         "SP67",
         "CO",
         "8359.331849",
         "ug/m3",
         "automatica"
        ],
        [
         "1662798",
         "1662798",
         "2016-06-18 00:00:00",
         "01:00",
         "Congonhas",
         "SP16",
         "CO",
         "8359.331849",
         "ug/m3",
         "automatica"
        ],
        [
         "4270347",
         "4270347",
         "2017-08-08 00:00:00",
         "22:00",
         "Santo André - Paço Municipal",
         "SP62",
         "CO",
         "8109.799555",
         "ug/m3",
         "automatica"
        ],
        [
         "1326462",
         "1326462",
         "2015-09-24 00:00:00",
         "20:00",
         "Taboão da Serra",
         "SP75",
         "CO",
         "8109.799555",
         "ug/m3",
         "automatica"
        ],
        [
         "7809189",
         "7809189",
         "2019-06-08 00:00:00",
         "01:00",
         "São Caetano do Sul",
         "SP67",
         "CO",
         "8109.799555",
         "ug/m3",
         "automatica"
        ],
        [
         "1662800",
         "1662800",
         "2016-06-18 00:00:00",
         "03:00",
         "Congonhas",
         "SP16",
         "CO",
         "8109.799555",
         "ug/m3",
         "automatica"
        ],
        [
         "1325391",
         "1325391",
         "2015-08-07 00:00:00",
         "21:00",
         "Taboão da Serra",
         "SP75",
         "CO",
         "8109.799555",
         "ug/m3",
         "automatica"
        ],
        [
         "1229617",
         "1229617",
         "2015-08-30 00:00:00",
         "23:55",
         "São Caetano do Sul",
         "SP67",
         "CO",
         "7985.033408",
         "ug/m3",
         "automatica"
        ],
        [
         "1662795",
         "1662795",
         "2016-06-17 00:00:00",
         "22:00",
         "Congonhas",
         "SP16",
         "CO",
         "7985.033408",
         "ug/m3",
         "automatica"
        ],
        [
         "4335234",
         "4335234",
         "2017-08-08 00:00:00",
         "22:00",
         "São Caetano do Sul",
         "SP67",
         "CO",
         "7985.033408",
         "ug/m3",
         "automatica"
        ],
        [
         "1229634",
         "1229634",
         "2015-09-01 00:00:00",
         "01:00",
         "São Caetano do Sul",
         "SP67",
         "CO",
         "7860.267261",
         "ug/m3",
         "automatica"
        ],
        [
         "1326465",
         "1326465",
         "2015-09-24 00:00:00",
         "23:00",
         "Taboão da Serra",
         "SP75",
         "CO",
         "7860.267261",
         "ug/m3",
         "automatica"
        ],
        [
         "7809191",
         "7809191",
         "2019-06-08 00:00:00",
         "03:00",
         "São Caetano do Sul",
         "SP67",
         "CO",
         "7860.267261",
         "ug/m3",
         "automatica"
        ],
        [
         "1326464",
         "1326464",
         "2015-09-24 00:00:00",
         "22:00",
         "Taboão da Serra",
         "SP75",
         "CO",
         "7860.267261",
         "ug/m3",
         "automatica"
        ],
        [
         "2668757",
         "2668757",
         "2016-06-18 00:00:00",
         "02:00",
         "São Caetano do Sul",
         "SP67",
         "CO",
         "7860.267261",
         "ug/m3",
         "automatica"
        ],
        [
         "5976351",
         "5976351",
         "2018-07-02 00:00:00",
         "21:00",
         "Santo André - Paço Municipal",
         "SP62",
         "CO",
         "7860.267261",
         "ug/m3",
         "automatica"
        ],
        [
         "2426026",
         "2426026",
         "2016-06-17 00:00:00",
         "23:55",
         "Santo André - Paço Municipal",
         "SP62",
         "CO",
         "7860.267261",
         "ug/m3",
         "automatica"
        ],
        [
         "6215049",
         "6215049",
         "2018-07-08 00:00:00",
         "01:00",
         "São Caetano do Sul",
         "SP67",
         "CO",
         "7735.501114",
         "ug/m3",
         "automatica"
        ],
        [
         "6667050",
         "6667050",
         "2019-07-10 00:00:00",
         "23:55",
         "Congonhas",
         "SP16",
         "CO",
         "7735.501114",
         "ug/m3",
         "automatica"
        ],
        [
         "2426027",
         "2426027",
         "2016-06-18 00:00:00",
         "01:00",
         "Santo André - Paço Municipal",
         "SP62",
         "CO",
         "7735.501114",
         "ug/m3",
         "automatica"
        ],
        [
         "7809190",
         "7809190",
         "2019-06-08 00:00:00",
         "02:00",
         "São Caetano do Sul",
         "SP67",
         "CO",
         "7735.501114",
         "ug/m3",
         "automatica"
        ],
        [
         "1229615",
         "1229615",
         "2015-08-30 00:00:00",
         "22:00",
         "São Caetano do Sul",
         "SP67",
         "CO",
         "7735.501114",
         "ug/m3",
         "automatica"
        ],
        [
         "1324754",
         "1324754",
         "2015-07-10 00:00:00",
         "22:00",
         "Taboão da Serra",
         "SP75",
         "CO",
         "7735.501114",
         "ug/m3",
         "automatica"
        ],
        [
         "1324753",
         "1324753",
         "2015-07-10 00:00:00",
         "21:00",
         "Taboão da Serra",
         "SP75",
         "CO",
         "7735.501114",
         "ug/m3",
         "automatica"
        ],
        [
         "1025063",
         "1025063",
         "2015-09-01 00:00:00",
         "08:00",
         "São Bernardo do Campo - Centro",
         "SP65",
         "CO",
         "7610.734967",
         "ug/m3",
         "automatica"
        ],
        [
         "1229631",
         "1229631",
         "2015-08-31 00:00:00",
         "22:00",
         "São Caetano do Sul",
         "SP67",
         "CO",
         "7610.734967",
         "ug/m3",
         "automatica"
        ],
        [
         "10912270",
         "10912270",
         "2021-07-21 00:00:00",
         "20:00",
         "Taboão da Serra",
         "SP75",
         "CO",
         "7610.734966592428",
         "ug/m3",
         "automatica"
        ],
        [
         "2668711",
         "2668711",
         "2016-06-16 00:00:00",
         "01:00",
         "São Caetano do Sul",
         "SP67",
         "CO",
         "7485.96882",
         "ug/m3",
         "automatica"
        ],
        [
         "1662799",
         "1662799",
         "2016-06-18 00:00:00",
         "02:00",
         "Congonhas",
         "SP16",
         "CO",
         "7485.96882",
         "ug/m3",
         "automatica"
        ],
        [
         "2668751",
         "2668751",
         "2016-06-17 00:00:00",
         "20:00",
         "São Caetano do Sul",
         "SP67",
         "CO",
         "7485.96882",
         "ug/m3",
         "automatica"
        ],
        [
         "1324118",
         "1324118",
         "2015-06-14 00:00:00",
         "01:00",
         "Taboão da Serra",
         "SP75",
         "CO",
         "7485.96882",
         "ug/m3",
         "automatica"
        ],
        [
         "1802610",
         "1802610",
         "2016-07-10 00:00:00",
         "02:00",
         "Grajaú - Parelheiros",
         "SP43",
         "CO",
         "7361.202673",
         "ug/m3",
         "automatica"
        ],
        [
         "6215240",
         "6215240",
         "2018-07-15 00:00:00",
         "23:55",
         "São Caetano do Sul",
         "SP67",
         "CO",
         "7361.202673",
         "ug/m3",
         "automatica"
        ],
        [
         "7810043",
         "7810043",
         "2019-07-14 00:00:00",
         "01:00",
         "São Caetano do Sul",
         "SP67",
         "CO",
         "7361.202673",
         "ug/m3",
         "automatica"
        ],
        [
         "1229633",
         "1229633",
         "2015-08-31 00:00:00",
         "23:55",
         "São Caetano do Sul",
         "SP67",
         "CO",
         "7361.202673",
         "ug/m3",
         "automatica"
        ]
       ],
       "shape": {
        "columns": 9,
        "rows": 1313463
       }
      },
      "text/html": [
       "<div>\n",
       "<style scoped>\n",
       "    .dataframe tbody tr th:only-of-type {\n",
       "        vertical-align: middle;\n",
       "    }\n",
       "\n",
       "    .dataframe tbody tr th {\n",
       "        vertical-align: top;\n",
       "    }\n",
       "\n",
       "    .dataframe thead th {\n",
       "        text-align: right;\n",
       "    }\n",
       "</style>\n",
       "<table border=\"1\" class=\"dataframe\">\n",
       "  <thead>\n",
       "    <tr style=\"text-align: right;\">\n",
       "      <th></th>\n",
       "      <th>ID</th>\n",
       "      <th>Data</th>\n",
       "      <th>Hora</th>\n",
       "      <th>Estacao</th>\n",
       "      <th>Codigo</th>\n",
       "      <th>Poluente</th>\n",
       "      <th>Valor</th>\n",
       "      <th>Unidade</th>\n",
       "      <th>Tipo</th>\n",
       "    </tr>\n",
       "  </thead>\n",
       "  <tbody>\n",
       "    <tr>\n",
       "      <th>1662796</th>\n",
       "      <td>1662796</td>\n",
       "      <td>2016-06-17</td>\n",
       "      <td>23:00</td>\n",
       "      <td>Congonhas</td>\n",
       "      <td>SP16</td>\n",
       "      <td>CO</td>\n",
       "      <td>9981.291759</td>\n",
       "      <td>ug/m3</td>\n",
       "      <td>automatica</td>\n",
       "    </tr>\n",
       "    <tr>\n",
       "      <th>2668753</th>\n",
       "      <td>2668753</td>\n",
       "      <td>2016-06-17</td>\n",
       "      <td>22:00</td>\n",
       "      <td>São Caetano do Sul</td>\n",
       "      <td>SP67</td>\n",
       "      <td>CO</td>\n",
       "      <td>9981.291759</td>\n",
       "      <td>ug/m3</td>\n",
       "      <td>automatica</td>\n",
       "    </tr>\n",
       "    <tr>\n",
       "      <th>341211</th>\n",
       "      <td>341211</td>\n",
       "      <td>2015-01-23</td>\n",
       "      <td>08:00</td>\n",
       "      <td>Cubatão - Centro</td>\n",
       "      <td>SP18</td>\n",
       "      <td>SO2</td>\n",
       "      <td>9645.000000</td>\n",
       "      <td>ug/m3</td>\n",
       "      <td>automatica</td>\n",
       "    </tr>\n",
       "    <tr>\n",
       "      <th>1662797</th>\n",
       "      <td>1662797</td>\n",
       "      <td>2016-06-17</td>\n",
       "      <td>23:55</td>\n",
       "      <td>Congonhas</td>\n",
       "      <td>SP16</td>\n",
       "      <td>CO</td>\n",
       "      <td>9606.993318</td>\n",
       "      <td>ug/m3</td>\n",
       "      <td>automatica</td>\n",
       "    </tr>\n",
       "    <tr>\n",
       "      <th>2426023</th>\n",
       "      <td>2426023</td>\n",
       "      <td>2016-06-17</td>\n",
       "      <td>21:00</td>\n",
       "      <td>Santo André - Paço Municipal</td>\n",
       "      <td>SP62</td>\n",
       "      <td>CO</td>\n",
       "      <td>9482.227171</td>\n",
       "      <td>ug/m3</td>\n",
       "      <td>automatica</td>\n",
       "    </tr>\n",
       "    <tr>\n",
       "      <th>...</th>\n",
       "      <td>...</td>\n",
       "      <td>...</td>\n",
       "      <td>...</td>\n",
       "      <td>...</td>\n",
       "      <td>...</td>\n",
       "      <td>...</td>\n",
       "      <td>...</td>\n",
       "      <td>...</td>\n",
       "      <td>...</td>\n",
       "    </tr>\n",
       "    <tr>\n",
       "      <th>4318836</th>\n",
       "      <td>4318836</td>\n",
       "      <td>2017-07-22</td>\n",
       "      <td>23:55</td>\n",
       "      <td>São Bernardo do Campo - Centro</td>\n",
       "      <td>SP65</td>\n",
       "      <td>O3</td>\n",
       "      <td>84.000000</td>\n",
       "      <td>ug/m3</td>\n",
       "      <td>automatica</td>\n",
       "    </tr>\n",
       "    <tr>\n",
       "      <th>4318838</th>\n",
       "      <td>4318838</td>\n",
       "      <td>2017-07-23</td>\n",
       "      <td>02:00</td>\n",
       "      <td>São Bernardo do Campo - Centro</td>\n",
       "      <td>SP65</td>\n",
       "      <td>O3</td>\n",
       "      <td>84.000000</td>\n",
       "      <td>ug/m3</td>\n",
       "      <td>automatica</td>\n",
       "    </tr>\n",
       "    <tr>\n",
       "      <th>4318619</th>\n",
       "      <td>4318619</td>\n",
       "      <td>2017-07-13</td>\n",
       "      <td>14:00</td>\n",
       "      <td>São Bernardo do Campo - Centro</td>\n",
       "      <td>SP65</td>\n",
       "      <td>O3</td>\n",
       "      <td>84.000000</td>\n",
       "      <td>ug/m3</td>\n",
       "      <td>automatica</td>\n",
       "    </tr>\n",
       "    <tr>\n",
       "      <th>4318962</th>\n",
       "      <td>4318962</td>\n",
       "      <td>2017-07-28</td>\n",
       "      <td>12:00</td>\n",
       "      <td>São Bernardo do Campo - Centro</td>\n",
       "      <td>SP65</td>\n",
       "      <td>O3</td>\n",
       "      <td>84.000000</td>\n",
       "      <td>ug/m3</td>\n",
       "      <td>automatica</td>\n",
       "    </tr>\n",
       "    <tr>\n",
       "      <th>7720407</th>\n",
       "      <td>7720407</td>\n",
       "      <td>2019-01-15</td>\n",
       "      <td>11:00</td>\n",
       "      <td>Santana</td>\n",
       "      <td>SP59</td>\n",
       "      <td>O3</td>\n",
       "      <td>84.000000</td>\n",
       "      <td>ug/m3</td>\n",
       "      <td>automatica</td>\n",
       "    </tr>\n",
       "  </tbody>\n",
       "</table>\n",
       "<p>1313463 rows × 9 columns</p>\n",
       "</div>"
      ],
      "text/plain": [
       "              ID       Data   Hora                         Estacao Codigo  \\\n",
       "1662796  1662796 2016-06-17  23:00                       Congonhas   SP16   \n",
       "2668753  2668753 2016-06-17  22:00              São Caetano do Sul   SP67   \n",
       "341211    341211 2015-01-23  08:00                Cubatão - Centro   SP18   \n",
       "1662797  1662797 2016-06-17  23:55                       Congonhas   SP16   \n",
       "2426023  2426023 2016-06-17  21:00    Santo André - Paço Municipal   SP62   \n",
       "...          ...        ...    ...                             ...    ...   \n",
       "4318836  4318836 2017-07-22  23:55  São Bernardo do Campo - Centro   SP65   \n",
       "4318838  4318838 2017-07-23  02:00  São Bernardo do Campo - Centro   SP65   \n",
       "4318619  4318619 2017-07-13  14:00  São Bernardo do Campo - Centro   SP65   \n",
       "4318962  4318962 2017-07-28  12:00  São Bernardo do Campo - Centro   SP65   \n",
       "7720407  7720407 2019-01-15  11:00                         Santana   SP59   \n",
       "\n",
       "        Poluente        Valor Unidade        Tipo  \n",
       "1662796       CO  9981.291759   ug/m3  automatica  \n",
       "2668753       CO  9981.291759   ug/m3  automatica  \n",
       "341211       SO2  9645.000000   ug/m3  automatica  \n",
       "1662797       CO  9606.993318   ug/m3  automatica  \n",
       "2426023       CO  9482.227171   ug/m3  automatica  \n",
       "...          ...          ...     ...         ...  \n",
       "4318836       O3    84.000000   ug/m3  automatica  \n",
       "4318838       O3    84.000000   ug/m3  automatica  \n",
       "4318619       O3    84.000000   ug/m3  automatica  \n",
       "4318962       O3    84.000000   ug/m3  automatica  \n",
       "7720407       O3    84.000000   ug/m3  automatica  \n",
       "\n",
       "[1313463 rows x 9 columns]"
      ]
     },
     "execution_count": 16,
     "metadata": {},
     "output_type": "execute_result"
    }
   ],
   "source": [
    "# Calcula a média dos valores de poluentes\n",
    "media_valor = df['Valor'].mean()\n",
    "\n",
    "# Filtra os registros acima da média e ordena em ordem decrescente\n",
    "acima_da_media = df[df['Valor'] > media_valor].sort_values(by='Valor', ascending=False)\n",
    "\n",
    "# Exibe as 10 primeiras linhas filtradas\n",
    "print(f'O valor médio de poluição é: {media_valor:.2f}')\n",
    "acima_da_media\n",
    "\n"
   ]
  },
  {
   "cell_type": "markdown",
   "id": "b768d395",
   "metadata": {},
   "source": [
    "### 5.4 Análise dos Valores Máximos e Mínimos de Poluição\n",
    "\n",
    "Para compreender a amplitude da concentração de poluentes ao longo do tempo, foram identificados os registros com os **valores extremos** no dataset:\n",
    "\n",
    "- **Valor máximo**: representa o maior nível registrado de poluição em um determinado momento e local.\n",
    "- **Valor mínimo**: representa o menor nível registrado, podendo indicar boa qualidade do ar ou ausência do poluente no instante da medição.\n",
    "\n",
    "O código abaixo mostra os registros correspondentes a esses valores:\n",
    "\n",
    "```python\n",
    "# Valor máximo de poluição\n",
    "valor_max = df['Valor'].max()\n",
    "registro_max = df[df['Valor'] == valor_max]\n",
    "\n",
    "# Valor mínimo de poluição\n",
    "valor_min = df['Valor'].min()\n",
    "registro_min = df[df['Valor'] == valor_min]\n",
    "\n",
    "print(f\"Valor máximo de poluição: {valor_max}\")\n",
    "display(registro_max)\n",
    "\n",
    "print(f\"Valor mínimo de poluição: {valor_min}\")\n",
    "display(registro_min)\n"
   ]
  },
  {
   "cell_type": "code",
   "execution_count": 17,
   "id": "35c9b746",
   "metadata": {},
   "outputs": [
    {
     "name": "stdout",
     "output_type": "stream",
     "text": [
      "Valor máximo de poluição: 9981.291759\n"
     ]
    },
    {
     "data": {
      "application/vnd.microsoft.datawrangler.viewer.v0+json": {
       "columns": [
        {
         "name": "index",
         "rawType": "int64",
         "type": "integer"
        },
        {
         "name": "ID",
         "rawType": "int64",
         "type": "integer"
        },
        {
         "name": "Data",
         "rawType": "datetime64[ns]",
         "type": "datetime"
        },
        {
         "name": "Hora",
         "rawType": "object",
         "type": "string"
        },
        {
         "name": "Estacao",
         "rawType": "object",
         "type": "string"
        },
        {
         "name": "Codigo",
         "rawType": "object",
         "type": "string"
        },
        {
         "name": "Poluente",
         "rawType": "object",
         "type": "string"
        },
        {
         "name": "Valor",
         "rawType": "float64",
         "type": "float"
        },
        {
         "name": "Unidade",
         "rawType": "object",
         "type": "string"
        },
        {
         "name": "Tipo",
         "rawType": "object",
         "type": "string"
        }
       ],
       "ref": "d8bf07e6-48c2-4e86-a71a-44fc1e15299e",
       "rows": [
        [
         "1662796",
         "1662796",
         "2016-06-17 00:00:00",
         "23:00",
         "Congonhas",
         "SP16",
         "CO",
         "9981.291759",
         "ug/m3",
         "automatica"
        ],
        [
         "2668753",
         "2668753",
         "2016-06-17 00:00:00",
         "22:00",
         "São Caetano do Sul",
         "SP67",
         "CO",
         "9981.291759",
         "ug/m3",
         "automatica"
        ]
       ],
       "shape": {
        "columns": 9,
        "rows": 2
       }
      },
      "text/html": [
       "<div>\n",
       "<style scoped>\n",
       "    .dataframe tbody tr th:only-of-type {\n",
       "        vertical-align: middle;\n",
       "    }\n",
       "\n",
       "    .dataframe tbody tr th {\n",
       "        vertical-align: top;\n",
       "    }\n",
       "\n",
       "    .dataframe thead th {\n",
       "        text-align: right;\n",
       "    }\n",
       "</style>\n",
       "<table border=\"1\" class=\"dataframe\">\n",
       "  <thead>\n",
       "    <tr style=\"text-align: right;\">\n",
       "      <th></th>\n",
       "      <th>ID</th>\n",
       "      <th>Data</th>\n",
       "      <th>Hora</th>\n",
       "      <th>Estacao</th>\n",
       "      <th>Codigo</th>\n",
       "      <th>Poluente</th>\n",
       "      <th>Valor</th>\n",
       "      <th>Unidade</th>\n",
       "      <th>Tipo</th>\n",
       "    </tr>\n",
       "  </thead>\n",
       "  <tbody>\n",
       "    <tr>\n",
       "      <th>1662796</th>\n",
       "      <td>1662796</td>\n",
       "      <td>2016-06-17</td>\n",
       "      <td>23:00</td>\n",
       "      <td>Congonhas</td>\n",
       "      <td>SP16</td>\n",
       "      <td>CO</td>\n",
       "      <td>9981.291759</td>\n",
       "      <td>ug/m3</td>\n",
       "      <td>automatica</td>\n",
       "    </tr>\n",
       "    <tr>\n",
       "      <th>2668753</th>\n",
       "      <td>2668753</td>\n",
       "      <td>2016-06-17</td>\n",
       "      <td>22:00</td>\n",
       "      <td>São Caetano do Sul</td>\n",
       "      <td>SP67</td>\n",
       "      <td>CO</td>\n",
       "      <td>9981.291759</td>\n",
       "      <td>ug/m3</td>\n",
       "      <td>automatica</td>\n",
       "    </tr>\n",
       "  </tbody>\n",
       "</table>\n",
       "</div>"
      ],
      "text/plain": [
       "              ID       Data   Hora             Estacao Codigo Poluente  \\\n",
       "1662796  1662796 2016-06-17  23:00           Congonhas   SP16       CO   \n",
       "2668753  2668753 2016-06-17  22:00  São Caetano do Sul   SP67       CO   \n",
       "\n",
       "               Valor Unidade        Tipo  \n",
       "1662796  9981.291759   ug/m3  automatica  \n",
       "2668753  9981.291759   ug/m3  automatica  "
      ]
     },
     "metadata": {},
     "output_type": "display_data"
    },
    {
     "name": "stdout",
     "output_type": "stream",
     "text": [
      "Valor mínimo de poluição: 0.0\n"
     ]
    },
    {
     "data": {
      "application/vnd.microsoft.datawrangler.viewer.v0+json": {
       "columns": [
        {
         "name": "index",
         "rawType": "int64",
         "type": "integer"
        },
        {
         "name": "ID",
         "rawType": "int64",
         "type": "integer"
        },
        {
         "name": "Data",
         "rawType": "datetime64[ns]",
         "type": "datetime"
        },
        {
         "name": "Hora",
         "rawType": "object",
         "type": "string"
        },
        {
         "name": "Estacao",
         "rawType": "object",
         "type": "string"
        },
        {
         "name": "Codigo",
         "rawType": "object",
         "type": "string"
        },
        {
         "name": "Poluente",
         "rawType": "object",
         "type": "string"
        },
        {
         "name": "Valor",
         "rawType": "float64",
         "type": "float"
        },
        {
         "name": "Unidade",
         "rawType": "object",
         "type": "string"
        },
        {
         "name": "Tipo",
         "rawType": "object",
         "type": "string"
        }
       ],
       "ref": "49d8e33b-de7e-45b4-aa66-5695883cb35f",
       "rows": [
        [
         "43",
         "43",
         "2015-01-02 00:00:00",
         "20:00",
         "Americana - Vila Santa Maria",
         "SP01",
         "MP10",
         "0.0",
         "ug/m3",
         "automatica"
        ],
        [
         "162",
         "162",
         "2015-01-07 00:00:00",
         "19:00",
         "Americana - Vila Santa Maria",
         "SP01",
         "MP10",
         "0.0",
         "ug/m3",
         "automatica"
        ],
        [
         "271",
         "271",
         "2015-01-12 00:00:00",
         "08:00",
         "Americana - Vila Santa Maria",
         "SP01",
         "MP10",
         "0.0",
         "ug/m3",
         "automatica"
        ],
        [
         "427",
         "427",
         "2015-01-18 00:00:00",
         "20:00",
         "Americana - Vila Santa Maria",
         "SP01",
         "MP10",
         "0.0",
         "ug/m3",
         "automatica"
        ],
        [
         "2302",
         "2302",
         "2015-06-25 00:00:00",
         "07:00",
         "Americana - Vila Santa Maria",
         "SP01",
         "MP10",
         "0.0",
         "ug/m3",
         "automatica"
        ],
        [
         "2533",
         "2533",
         "2015-07-04 00:00:00",
         "22:00",
         "Americana - Vila Santa Maria",
         "SP01",
         "MP10",
         "0.0",
         "ug/m3",
         "automatica"
        ],
        [
         "2535",
         "2535",
         "2015-07-04 00:00:00",
         "23:55",
         "Americana - Vila Santa Maria",
         "SP01",
         "MP10",
         "0.0",
         "ug/m3",
         "automatica"
        ],
        [
         "3922",
         "3922",
         "2015-08-31 00:00:00",
         "19:00",
         "Americana - Vila Santa Maria",
         "SP01",
         "MP10",
         "0.0",
         "ug/m3",
         "automatica"
        ],
        [
         "4291",
         "4291",
         "2015-09-16 00:00:00",
         "20:00",
         "Americana - Vila Santa Maria",
         "SP01",
         "MP10",
         "0.0",
         "ug/m3",
         "automatica"
        ],
        [
         "4314",
         "4314",
         "2015-09-17 00:00:00",
         "19:00",
         "Americana - Vila Santa Maria",
         "SP01",
         "MP10",
         "0.0",
         "ug/m3",
         "automatica"
        ],
        [
         "4479",
         "4479",
         "2015-09-24 00:00:00",
         "18:00",
         "Americana - Vila Santa Maria",
         "SP01",
         "MP10",
         "0.0",
         "ug/m3",
         "automatica"
        ],
        [
         "4883",
         "4883",
         "2015-10-11 00:00:00",
         "18:00",
         "Americana - Vila Santa Maria",
         "SP01",
         "MP10",
         "0.0",
         "ug/m3",
         "automatica"
        ],
        [
         "4906",
         "4906",
         "2015-10-12 00:00:00",
         "17:00",
         "Americana - Vila Santa Maria",
         "SP01",
         "MP10",
         "0.0",
         "ug/m3",
         "automatica"
        ],
        [
         "5141",
         "5141",
         "2015-10-22 00:00:00",
         "17:00",
         "Americana - Vila Santa Maria",
         "SP01",
         "MP10",
         "0.0",
         "ug/m3",
         "automatica"
        ],
        [
         "5191",
         "5191",
         "2015-10-24 00:00:00",
         "19:00",
         "Americana - Vila Santa Maria",
         "SP01",
         "MP10",
         "0.0",
         "ug/m3",
         "automatica"
        ],
        [
         "5407",
         "5407",
         "2015-11-02 00:00:00",
         "19:00",
         "Americana - Vila Santa Maria",
         "SP01",
         "MP10",
         "0.0",
         "ug/m3",
         "automatica"
        ],
        [
         "5478",
         "5478",
         "2015-11-05 00:00:00",
         "18:00",
         "Americana - Vila Santa Maria",
         "SP01",
         "MP10",
         "0.0",
         "ug/m3",
         "automatica"
        ],
        [
         "5501",
         "5501",
         "2015-11-06 00:00:00",
         "17:00",
         "Americana - Vila Santa Maria",
         "SP01",
         "MP10",
         "0.0",
         "ug/m3",
         "automatica"
        ],
        [
         "5502",
         "5502",
         "2015-11-06 00:00:00",
         "18:00",
         "Americana - Vila Santa Maria",
         "SP01",
         "MP10",
         "0.0",
         "ug/m3",
         "automatica"
        ],
        [
         "5576",
         "5576",
         "2015-11-09 00:00:00",
         "20:00",
         "Americana - Vila Santa Maria",
         "SP01",
         "MP10",
         "0.0",
         "ug/m3",
         "automatica"
        ],
        [
         "5577",
         "5577",
         "2015-11-09 00:00:00",
         "21:00",
         "Americana - Vila Santa Maria",
         "SP01",
         "MP10",
         "0.0",
         "ug/m3",
         "automatica"
        ],
        [
         "5719",
         "5719",
         "2015-11-15 00:00:00",
         "19:00",
         "Americana - Vila Santa Maria",
         "SP01",
         "MP10",
         "0.0",
         "ug/m3",
         "automatica"
        ],
        [
         "5720",
         "5720",
         "2015-11-15 00:00:00",
         "20:00",
         "Americana - Vila Santa Maria",
         "SP01",
         "MP10",
         "0.0",
         "ug/m3",
         "automatica"
        ],
        [
         "5768",
         "5768",
         "2015-11-17 00:00:00",
         "20:00",
         "Americana - Vila Santa Maria",
         "SP01",
         "MP10",
         "0.0",
         "ug/m3",
         "automatica"
        ],
        [
         "6646",
         "6646",
         "2015-12-31 00:00:00",
         "12:00",
         "Americana - Vila Santa Maria",
         "SP01",
         "MP10",
         "0.0",
         "ug/m3",
         "automatica"
        ],
        [
         "7505",
         "7505",
         "2015-02-07 00:00:00",
         "07:00",
         "Americana - Vila Santa Maria",
         "SP01",
         "O3",
         "0.0",
         "ug/m3",
         "automatica"
        ],
        [
         "7637",
         "7637",
         "2015-02-13 00:00:00",
         "02:00",
         "Americana - Vila Santa Maria",
         "SP01",
         "O3",
         "0.0",
         "ug/m3",
         "automatica"
        ],
        [
         "7638",
         "7638",
         "2015-02-13 00:00:00",
         "03:00",
         "Americana - Vila Santa Maria",
         "SP01",
         "O3",
         "0.0",
         "ug/m3",
         "automatica"
        ],
        [
         "7639",
         "7639",
         "2015-02-13 00:00:00",
         "04:00",
         "Americana - Vila Santa Maria",
         "SP01",
         "O3",
         "0.0",
         "ug/m3",
         "automatica"
        ],
        [
         "7640",
         "7640",
         "2015-02-13 00:00:00",
         "05:00",
         "Americana - Vila Santa Maria",
         "SP01",
         "O3",
         "0.0",
         "ug/m3",
         "automatica"
        ],
        [
         "7641",
         "7641",
         "2015-02-13 00:00:00",
         "07:00",
         "Americana - Vila Santa Maria",
         "SP01",
         "O3",
         "0.0",
         "ug/m3",
         "automatica"
        ],
        [
         "7824",
         "7824",
         "2015-02-21 00:00:00",
         "07:00",
         "Americana - Vila Santa Maria",
         "SP01",
         "O3",
         "0.0",
         "ug/m3",
         "automatica"
        ],
        [
         "8268",
         "8268",
         "2015-03-12 00:00:00",
         "23:55",
         "Americana - Vila Santa Maria",
         "SP01",
         "O3",
         "0.0",
         "ug/m3",
         "automatica"
        ],
        [
         "8269",
         "8269",
         "2015-03-13 00:00:00",
         "01:00",
         "Americana - Vila Santa Maria",
         "SP01",
         "O3",
         "0.0",
         "ug/m3",
         "automatica"
        ],
        [
         "8270",
         "8270",
         "2015-03-13 00:00:00",
         "02:00",
         "Americana - Vila Santa Maria",
         "SP01",
         "O3",
         "0.0",
         "ug/m3",
         "automatica"
        ],
        [
         "8341",
         "8341",
         "2015-03-16 00:00:00",
         "05:00",
         "Americana - Vila Santa Maria",
         "SP01",
         "O3",
         "0.0",
         "ug/m3",
         "automatica"
        ],
        [
         "8570",
         "8570",
         "2015-03-26 00:00:00",
         "05:00",
         "Americana - Vila Santa Maria",
         "SP01",
         "O3",
         "0.0",
         "ug/m3",
         "automatica"
        ],
        [
         "8593",
         "8593",
         "2015-03-27 00:00:00",
         "05:00",
         "Americana - Vila Santa Maria",
         "SP01",
         "O3",
         "0.0",
         "ug/m3",
         "automatica"
        ],
        [
         "8697",
         "8697",
         "2015-03-31 00:00:00",
         "21:00",
         "Americana - Vila Santa Maria",
         "SP01",
         "O3",
         "0.0",
         "ug/m3",
         "automatica"
        ],
        [
         "8699",
         "8699",
         "2015-03-31 00:00:00",
         "23:00",
         "Americana - Vila Santa Maria",
         "SP01",
         "O3",
         "0.0",
         "ug/m3",
         "automatica"
        ],
        [
         "8700",
         "8700",
         "2015-03-31 00:00:00",
         "23:55",
         "Americana - Vila Santa Maria",
         "SP01",
         "O3",
         "0.0",
         "ug/m3",
         "automatica"
        ],
        [
         "8701",
         "8701",
         "2015-04-01 00:00:00",
         "01:00",
         "Americana - Vila Santa Maria",
         "SP01",
         "O3",
         "0.0",
         "ug/m3",
         "automatica"
        ],
        [
         "8702",
         "8702",
         "2015-04-01 00:00:00",
         "02:00",
         "Americana - Vila Santa Maria",
         "SP01",
         "O3",
         "0.0",
         "ug/m3",
         "automatica"
        ],
        [
         "8703",
         "8703",
         "2015-04-01 00:00:00",
         "03:00",
         "Americana - Vila Santa Maria",
         "SP01",
         "O3",
         "0.0",
         "ug/m3",
         "automatica"
        ],
        [
         "8704",
         "8704",
         "2015-04-01 00:00:00",
         "04:00",
         "Americana - Vila Santa Maria",
         "SP01",
         "O3",
         "0.0",
         "ug/m3",
         "automatica"
        ],
        [
         "8705",
         "8705",
         "2015-04-01 00:00:00",
         "05:00",
         "Americana - Vila Santa Maria",
         "SP01",
         "O3",
         "0.0",
         "ug/m3",
         "automatica"
        ],
        [
         "8795",
         "8795",
         "2015-04-05 00:00:00",
         "03:00",
         "Americana - Vila Santa Maria",
         "SP01",
         "O3",
         "0.0",
         "ug/m3",
         "automatica"
        ],
        [
         "8958",
         "8958",
         "2015-04-12 00:00:00",
         "05:00",
         "Americana - Vila Santa Maria",
         "SP01",
         "O3",
         "0.0",
         "ug/m3",
         "automatica"
        ],
        [
         "9048",
         "9048",
         "2015-04-16 00:00:00",
         "03:00",
         "Americana - Vila Santa Maria",
         "SP01",
         "O3",
         "0.0",
         "ug/m3",
         "automatica"
        ],
        [
         "9096",
         "9096",
         "2015-04-18 00:00:00",
         "07:00",
         "Americana - Vila Santa Maria",
         "SP01",
         "O3",
         "0.0",
         "ug/m3",
         "automatica"
        ]
       ],
       "shape": {
        "columns": 9,
        "rows": 290648
       }
      },
      "text/html": [
       "<div>\n",
       "<style scoped>\n",
       "    .dataframe tbody tr th:only-of-type {\n",
       "        vertical-align: middle;\n",
       "    }\n",
       "\n",
       "    .dataframe tbody tr th {\n",
       "        vertical-align: top;\n",
       "    }\n",
       "\n",
       "    .dataframe thead th {\n",
       "        text-align: right;\n",
       "    }\n",
       "</style>\n",
       "<table border=\"1\" class=\"dataframe\">\n",
       "  <thead>\n",
       "    <tr style=\"text-align: right;\">\n",
       "      <th></th>\n",
       "      <th>ID</th>\n",
       "      <th>Data</th>\n",
       "      <th>Hora</th>\n",
       "      <th>Estacao</th>\n",
       "      <th>Codigo</th>\n",
       "      <th>Poluente</th>\n",
       "      <th>Valor</th>\n",
       "      <th>Unidade</th>\n",
       "      <th>Tipo</th>\n",
       "    </tr>\n",
       "  </thead>\n",
       "  <tbody>\n",
       "    <tr>\n",
       "      <th>43</th>\n",
       "      <td>43</td>\n",
       "      <td>2015-01-02</td>\n",
       "      <td>20:00</td>\n",
       "      <td>Americana - Vila Santa Maria</td>\n",
       "      <td>SP01</td>\n",
       "      <td>MP10</td>\n",
       "      <td>0.0</td>\n",
       "      <td>ug/m3</td>\n",
       "      <td>automatica</td>\n",
       "    </tr>\n",
       "    <tr>\n",
       "      <th>162</th>\n",
       "      <td>162</td>\n",
       "      <td>2015-01-07</td>\n",
       "      <td>19:00</td>\n",
       "      <td>Americana - Vila Santa Maria</td>\n",
       "      <td>SP01</td>\n",
       "      <td>MP10</td>\n",
       "      <td>0.0</td>\n",
       "      <td>ug/m3</td>\n",
       "      <td>automatica</td>\n",
       "    </tr>\n",
       "    <tr>\n",
       "      <th>271</th>\n",
       "      <td>271</td>\n",
       "      <td>2015-01-12</td>\n",
       "      <td>08:00</td>\n",
       "      <td>Americana - Vila Santa Maria</td>\n",
       "      <td>SP01</td>\n",
       "      <td>MP10</td>\n",
       "      <td>0.0</td>\n",
       "      <td>ug/m3</td>\n",
       "      <td>automatica</td>\n",
       "    </tr>\n",
       "    <tr>\n",
       "      <th>427</th>\n",
       "      <td>427</td>\n",
       "      <td>2015-01-18</td>\n",
       "      <td>20:00</td>\n",
       "      <td>Americana - Vila Santa Maria</td>\n",
       "      <td>SP01</td>\n",
       "      <td>MP10</td>\n",
       "      <td>0.0</td>\n",
       "      <td>ug/m3</td>\n",
       "      <td>automatica</td>\n",
       "    </tr>\n",
       "    <tr>\n",
       "      <th>2302</th>\n",
       "      <td>2302</td>\n",
       "      <td>2015-06-25</td>\n",
       "      <td>07:00</td>\n",
       "      <td>Americana - Vila Santa Maria</td>\n",
       "      <td>SP01</td>\n",
       "      <td>MP10</td>\n",
       "      <td>0.0</td>\n",
       "      <td>ug/m3</td>\n",
       "      <td>automatica</td>\n",
       "    </tr>\n",
       "    <tr>\n",
       "      <th>...</th>\n",
       "      <td>...</td>\n",
       "      <td>...</td>\n",
       "      <td>...</td>\n",
       "      <td>...</td>\n",
       "      <td>...</td>\n",
       "      <td>...</td>\n",
       "      <td>...</td>\n",
       "      <td>...</td>\n",
       "      <td>...</td>\n",
       "    </tr>\n",
       "    <tr>\n",
       "      <th>10976207</th>\n",
       "      <td>10976207</td>\n",
       "      <td>2021-08-02</td>\n",
       "      <td>08:00</td>\n",
       "      <td>Taubaté</td>\n",
       "      <td>SP78</td>\n",
       "      <td>O3</td>\n",
       "      <td>0.0</td>\n",
       "      <td>ug/m3</td>\n",
       "      <td>automatica</td>\n",
       "    </tr>\n",
       "    <tr>\n",
       "      <th>10976364</th>\n",
       "      <td>10976364</td>\n",
       "      <td>2021-08-09</td>\n",
       "      <td>03:00</td>\n",
       "      <td>Taubaté</td>\n",
       "      <td>SP78</td>\n",
       "      <td>O3</td>\n",
       "      <td>0.0</td>\n",
       "      <td>ug/m3</td>\n",
       "      <td>automatica</td>\n",
       "    </tr>\n",
       "    <tr>\n",
       "      <th>10976365</th>\n",
       "      <td>10976365</td>\n",
       "      <td>2021-08-09</td>\n",
       "      <td>04:00</td>\n",
       "      <td>Taubaté</td>\n",
       "      <td>SP78</td>\n",
       "      <td>O3</td>\n",
       "      <td>0.0</td>\n",
       "      <td>ug/m3</td>\n",
       "      <td>automatica</td>\n",
       "    </tr>\n",
       "    <tr>\n",
       "      <th>10976367</th>\n",
       "      <td>10976367</td>\n",
       "      <td>2021-08-09</td>\n",
       "      <td>07:00</td>\n",
       "      <td>Taubaté</td>\n",
       "      <td>SP78</td>\n",
       "      <td>O3</td>\n",
       "      <td>0.0</td>\n",
       "      <td>ug/m3</td>\n",
       "      <td>automatica</td>\n",
       "    </tr>\n",
       "    <tr>\n",
       "      <th>10976952</th>\n",
       "      <td>10976952</td>\n",
       "      <td>2021-09-04</td>\n",
       "      <td>03:00</td>\n",
       "      <td>Taubaté</td>\n",
       "      <td>SP78</td>\n",
       "      <td>O3</td>\n",
       "      <td>0.0</td>\n",
       "      <td>ug/m3</td>\n",
       "      <td>automatica</td>\n",
       "    </tr>\n",
       "  </tbody>\n",
       "</table>\n",
       "<p>290648 rows × 9 columns</p>\n",
       "</div>"
      ],
      "text/plain": [
       "                ID       Data   Hora                       Estacao Codigo  \\\n",
       "43              43 2015-01-02  20:00  Americana - Vila Santa Maria   SP01   \n",
       "162            162 2015-01-07  19:00  Americana - Vila Santa Maria   SP01   \n",
       "271            271 2015-01-12  08:00  Americana - Vila Santa Maria   SP01   \n",
       "427            427 2015-01-18  20:00  Americana - Vila Santa Maria   SP01   \n",
       "2302          2302 2015-06-25  07:00  Americana - Vila Santa Maria   SP01   \n",
       "...            ...        ...    ...                           ...    ...   \n",
       "10976207  10976207 2021-08-02  08:00                       Taubaté   SP78   \n",
       "10976364  10976364 2021-08-09  03:00                       Taubaté   SP78   \n",
       "10976365  10976365 2021-08-09  04:00                       Taubaté   SP78   \n",
       "10976367  10976367 2021-08-09  07:00                       Taubaté   SP78   \n",
       "10976952  10976952 2021-09-04  03:00                       Taubaté   SP78   \n",
       "\n",
       "         Poluente  Valor Unidade        Tipo  \n",
       "43           MP10    0.0   ug/m3  automatica  \n",
       "162          MP10    0.0   ug/m3  automatica  \n",
       "271          MP10    0.0   ug/m3  automatica  \n",
       "427          MP10    0.0   ug/m3  automatica  \n",
       "2302         MP10    0.0   ug/m3  automatica  \n",
       "...           ...    ...     ...         ...  \n",
       "10976207       O3    0.0   ug/m3  automatica  \n",
       "10976364       O3    0.0   ug/m3  automatica  \n",
       "10976365       O3    0.0   ug/m3  automatica  \n",
       "10976367       O3    0.0   ug/m3  automatica  \n",
       "10976952       O3    0.0   ug/m3  automatica  \n",
       "\n",
       "[290648 rows x 9 columns]"
      ]
     },
     "metadata": {},
     "output_type": "display_data"
    }
   ],
   "source": [
    "# Valor máximo de poluição\n",
    "valor_max = df['Valor'].max()\n",
    "registro_max = df[df['Valor'] == valor_max]\n",
    "\n",
    "# Valor mínimo de poluição\n",
    "valor_min = df['Valor'].min()\n",
    "registro_min = df[df['Valor'] == valor_min]\n",
    "\n",
    "print(f\"Valor máximo de poluição: {valor_max}\")\n",
    "display(registro_max)\n",
    "\n",
    "print(f\"Valor mínimo de poluição: {valor_min}\")\n",
    "display(registro_min)"
   ]
  },
  {
   "cell_type": "markdown",
   "id": "cda8e693",
   "metadata": {},
   "source": [
    "### Pergunta 1: Qual é a estação com maior média de poluição (Valor)?\n",
    "\n",
    "#### Justificativa:\n",
    "\n",
    "Identificar a estação com a maior média de poluição é essencial para reconhecer as áreas mais críticas em relação à qualidade do ar. Essa informação pode orientar políticas públicas, intervenções ambientais e alocação de recursos para mitigar os efeitos da poluição nas regiões mais afetadas.\n",
    "\n",
    "#### Resultado:\n",
    "\n",
    "A média de poluição por estação foi calculada com base nos dados coletados. Após ordenar os resultados do maior para o menor valor médio de poluição, identificou-se a estação com maior impacto.\n",
    "\n",
    "#### Interpretação:\n",
    "\n",
    "A estação **Santo André - Paço Municipal** apresentou a maior média de poluição entre todas as estações analisadas, com **436,70 µg/m³**. Esse valor está significativamente acima das demais médias, indicando uma situação crítica que merece atenção.\n",
    "\n",
    "#### Conclusão:\n",
    "\n",
    "A análise revelou que a estação com maior média de poluição é **Santo André - Paço Municipal**, com uma média de **436,70 µg/m³**. Este resultado destaca a necessidade de medidas urgentes nessa região para melhorar a qualidade do ar e proteger a saúde da população."
   ]
  },
  {
   "cell_type": "code",
   "execution_count": 18,
   "id": "7a372277",
   "metadata": {},
   "outputs": [
    {
     "name": "stdout",
     "output_type": "stream",
     "text": [
      "Média de poluição por estação (µg/m³):\n",
      "Estacao\n",
      "Santo André - Paço Municipal    436.696420\n",
      "Campinas - Centro               411.976846\n",
      "Taboão da Serra                 411.533445\n",
      "Osasco                          242.848337\n",
      "Santo Amaro                     235.991935\n",
      "                                   ...    \n",
      "Salto - Centro                   10.842105\n",
      "Itu - Centro                      9.904321\n",
      "Taubaté - Centro                  9.876404\n",
      "Franca - Centro                   3.937500\n",
      "Paulínia - João Aranha            3.413793\n",
      "Name: Valor, Length: 87, dtype: float64\n",
      "\n",
      "Estação com maior média de poluição: Santo André - Paço Municipal (436.70 µg/m³)\n"
     ]
    }
   ],
   "source": [
    "# Agrupar os dados por estação e calcular a média da coluna 'Valor'\n",
    "media_por_estacao = df.groupby('Estacao')['Valor'].mean()\n",
    "\n",
    "# Ordenar da maior para a menor média\n",
    "media_por_estacao_ordenado = media_por_estacao.sort_values(ascending=False)\n",
    "\n",
    "# Exibir os resultados\n",
    "print(\"Média de poluição por estação (µg/m³):\")\n",
    "print(media_por_estacao_ordenado)\n",
    "print(f\"\\nEstação com maior média de poluição: {media_por_estacao_ordenado.idxmax()} ({media_por_estacao_ordenado.max():.2f} µg/m³)\")\n"
   ]
  },
  {
   "cell_type": "markdown",
   "id": "d033665e",
   "metadata": {},
   "source": [
    "##  Pergunta 2: Em quais horários do dia os níveis de poluição são mais altos?\n",
    "\n",
    "### Justificativa:\n",
    "Essa análise ajuda a identificar **padrões de comportamento humano** que impactam a poluição, como **trânsito intenso**, **atividades industriais** ou **condições atmosféricas específicas**. Isso é essencial para **ações de prevenção e políticas públicas ambientais**.\n",
    "\n",
    "### Análise dos Resultados:\n",
    "\n",
    "Com base no gráfico e nos dados abaixo, os horários com **maior média de poluição** são:\n",
    "\n",
    "- **20:00** → 97.43 µg/m³  \n",
    "- **19:00** → 96.67 µg/m³  \n",
    "- **01:00** → 96.28 µg/m³  \n",
    "- **21:00** → 96.10 µg/m³  \n",
    "- **22:00** → 95.67 µg/m³  \n",
    "\n",
    "Estes picos indicam que os níveis de poluição tendem a ser mais altos no **início da noite** e em certos momentos da madrugada. Isso pode estar relacionado ao tráfego de retorno para casa, funcionamento de indústrias ou menor dispersão de poluentes devido às condições atmosféricas noturnas.\n",
    "\n",
    "Já os **menores valores** ocorrem por volta de **05:00**, sugerindo que esse horário apresenta **menor atividade humana e melhor dispersão atmosférica**.\n",
    "\n",
    "Essa informação pode orientar campanhas de conscientização e estratégias de mitigação da exposição à poluição.\n"
   ]
  },
  {
   "cell_type": "markdown",
   "id": "df6c3a94",
   "metadata": {},
   "source": [
    "## Explicação do Código\n",
    "\n",
    "O código apresentado tem como objetivo **identificar os horários do dia em que os níveis médios de poluição são mais altos**. Para isso, ele executa as seguintes etapas:\n",
    "\n",
    "1. **Agrupamento por horário (`Hora`)**: Utiliza o método `groupby()` para agrupar os dados por hora do dia.\n",
    "2. **Cálculo da média**: Com o método `mean()`, calcula-se a média dos valores de poluição para cada horário.\n",
    "3. **Ordenação decrescente**: Usa `sort_values(ascending=False)` para identificar os horários com maiores níveis médios de poluição.\n",
    "4. **Visualização com gráfico**: Utiliza o `seaborn` e `matplotlib` para plotar a média de poluição por horário em um gráfico de linha.\n",
    "\n",
    "Essa abordagem permite analisar de forma clara **em quais momentos do dia ocorrem os picos de poluição**, algo essencial para estudos ambientais e decisões políticas.\n"
   ]
  },
  {
   "cell_type": "code",
   "execution_count": 19,
   "id": "6f732bea",
   "metadata": {},
   "outputs": [
    {
     "data": {
      "image/png": "[encoded data removed]",
      "text/plain": [
       "<Figure size 1400x500 with 1 Axes>"
      ]
     },
     "metadata": {},
     "output_type": "display_data"
    }
   ],
   "source": [
    "# Converter a coluna 'Hora' para o tipo datetime com hora e minuto\n",
    "df['Hora'] = pd.to_datetime(df['Hora'], format='%H:%M', errors='coerce')\n",
    "\n",
    "# Remover possíveis valores nulos após conversão\n",
    "df = df.dropna(subset=['Hora'])\n",
    "\n",
    "# Agrupar por hora e calcular a média da poluição\n",
    "media_por_hora = df.groupby(df['Hora'].dt.strftime('%H:%M'))['Valor'].mean()\n",
    "\n",
    "# Ordenar por hora\n",
    "media_por_hora = media_por_hora.sort_index()\n",
    "\n",
    "# Gráfico de linha corrigido\n",
    "plt.figure(figsize=(14, 5))\n",
    "sns.lineplot(x=media_por_hora.index, y=media_por_hora.values, marker='o')\n",
    "plt.xticks(rotation=45)\n",
    "plt.title(\"Média de Poluição por Horário do Dia\", fontsize=14)\n",
    "plt.xlabel(\"Hora\")\n",
    "plt.ylabel(\"Média de Poluição (µg/m³)\")\n",
    "plt.grid(True)\n",
    "plt.tight_layout()\n",
    "plt.show()"
   ]
  },
  {
   "cell_type": "markdown",
   "id": "abfb2981",
   "metadata": {},
   "source": [
    "## Explicação do Código\n",
    "\n",
    "O objetivo do código foi **analisar quais poluentes apresentam os maiores níveis médios** no dataset. O processo incluiu os seguintes passos:\n",
    "\n",
    "1. **Agrupamento por tipo de poluente (`Poluente`)**: Agrupou-se os dados com `groupby()` para analisar separadamente cada substância.\n",
    "2. **Cálculo da média por poluente**: Com `mean()`, foi obtida a média dos valores de concentração para cada tipo de poluente.\n",
    "3. **Ordenação decrescente**: Com `sort_values(ascending=False)`, os poluentes foram ordenados do mais poluente ao menos poluente.\n",
    "4. **Visualização gráfica**: Foi gerado um gráfico de barras com `seaborn` para facilitar a comparação visual.\n",
    "\n",
    "Essa análise permite compreender **quais substâncias têm maior presença no ar monitorado** — fundamental para orientar políticas públicas de controle ambiental e alertar a população sobre os riscos mais comuns.\n"
   ]
  },
  {
   "cell_type": "markdown",
   "id": "3b9cad0f",
   "metadata": {},
   "source": [
    "## Pergunta 3: Quais poluentes apresentam os maiores níveis médios?\n",
    "\n",
    "### Justificativa:\n",
    "Identificar os poluentes com maiores concentrações médias é essencial para compreender os principais contaminantes presentes no ar, possibilitando estratégias de controle ambiental, prevenção de doenças respiratórias e direcionamento de políticas públicas de saúde.\n",
    "\n",
    "### Interpretação:\n",
    "O gráfico a seguir mostra a **média da concentração (µg/m³)** de cada poluente presente no dataset:\n",
    "\n",
    "- **CO (Monóxido de Carbono)** apresenta disparadamente a maior média de concentração, indicando uma forte emissão desse gás, possivelmente devido ao tráfego de veículos e queima de combustíveis fósseis.\n",
    "- **PTS (Partículas Totais em Suspensão)** e **O₃ (Ozônio)** também aparecem com médias significativas, o que reforça sua presença no ambiente urbano.\n",
    "- Poluentes como **MP10, NO2, MP2.5 e SO2** apresentam médias menores, mas ainda assim relevantes no contexto da qualidade do ar.\n",
    "\n",
    "Esses resultados são importantes para definir quais poluentes devem ser priorizados nas ações de monitoramento e controle ambiental.\n"
   ]
  },
  {
   "cell_type": "code",
   "execution_count": 20,
   "id": "a6e12a3f",
   "metadata": {},
   "outputs": [
    {
     "name": "stdout",
     "output_type": "stream",
     "text": [
      "Poluente\n",
      "CO       712.781792\n",
      "PTS       72.616374\n",
      "O3        39.877003\n",
      "MP10      29.207835\n",
      "NO2       25.675854\n",
      "FMC       16.407719\n",
      "MP2.5     15.756391\n",
      "NO        15.103614\n",
      "SO2        4.443398\n",
      "Name: Valor, dtype: float64\n"
     ]
    },
    {
     "name": "stderr",
     "output_type": "stream",
     "text": [
      "C:\\Users\\Jackson\\AppData\\Local\\Temp\\ipykernel_22648\\2517993983.py:9: FutureWarning: \n",
      "\n",
      "Passing `palette` without assigning `hue` is deprecated and will be removed in v0.14.0. Assign the `y` variable to `hue` and set `legend=False` for the same effect.\n",
      "\n",
      "  sns.barplot(x=media_poluentes.values, y=media_poluentes.index, palette='crest')\n"
     ]
    },
    {
     "data": {
      "image/png": "[encoded data removed]",
      "text/plain": [
       "<Figure size 1000x600 with 1 Axes>"
      ]
     },
     "metadata": {},
     "output_type": "display_data"
    }
   ],
   "source": [
    "# Agrupa os dados por tipo de poluente e calcula a média dos valores\n",
    "media_poluentes = df.groupby('Poluente')['Valor'].mean().sort_values(ascending=False)\n",
    "\n",
    "# Exibe os valores calculados\n",
    "print(media_poluentes)\n",
    "\n",
    "# Visualização com gráfico de barras\n",
    "plt.figure(figsize=(10, 6))\n",
    "sns.barplot(x=media_poluentes.values, y=media_poluentes.index, palette='crest')\n",
    "plt.title('Média dos Níveis de Poluição por Tipo de Poluente')\n",
    "plt.xlabel('Média da Concentração (µg/m³)')\n",
    "plt.ylabel('Poluente')\n",
    "plt.grid(axis='x', linestyle='--', alpha=0.6)\n",
    "plt.tight_layout()\n",
    "plt.show()\n"
   ]
  },
  {
   "cell_type": "markdown",
   "id": "f6ee4ee8",
   "metadata": {},
   "source": [
    "### Pergunta 4: A poluição está aumentando ou diminuindo ao longo dos anos?\n",
    "\n",
    "#### Justificativa:\n",
    "Entender a evolução dos níveis de poluição ao longo dos anos é crucial para avaliar o impacto de ações governamentais, leis ambientais, eventos climáticos e econômicos. Essa análise ajuda a verificar se os níveis de poluição estão sob controle ou se há necessidade de ações corretivas.\n",
    "\n",
    "#### Interpretação:\n",
    "- Em **2015**, os níveis de poluição estavam bastante altos.  \n",
    "- De **2015 a 2017**, observamos uma **redução significativa**.  \n",
    "- **2018** teve um **leve aumento**, mas não retornou aos níveis anteriores.  \n",
    "- A **tendência de queda** continua de **2019 a 2021**, com os menores níveis registrados em **2021**.\n",
    "\n",
    "#### Conclusão:\n",
    "A análise mostra uma **tendência geral de diminuição** nos níveis médios de poluição ao longo dos anos, o que sugere possíveis efeitos positivos de **políticas ambientais** ou impactos de eventos como a **pandemia**.\n"
   ]
  },
  {
   "cell_type": "code",
   "execution_count": 21,
   "id": "89ef0860",
   "metadata": {},
   "outputs": [
    {
     "name": "stdout",
     "output_type": "stream",
     "text": [
      "    Ano       Valor\n",
      "0  2015  116.347594\n",
      "1  2016   95.497755\n",
      "2  2017   70.767833\n",
      "3  2018   84.772056\n",
      "4  2019   81.460810\n",
      "5  2020   73.259215\n",
      "6  2021   67.092175\n"
     ]
    },
    {
     "data": {
      "image/png": "[encoded data removed]",
      "text/plain": [
       "<Figure size 1000x600 with 1 Axes>"
      ]
     },
     "metadata": {},
     "output_type": "display_data"
    }
   ],
   "source": [
    "# Cria uma nova coluna com o ano\n",
    "df['Ano'] = df['Data'].dt.year\n",
    "\n",
    "# Agrupa pela coluna 'Ano' e calcula a média dos valores de poluição\n",
    "media_por_ano = df.groupby('Ano')['Valor'].mean().reset_index()\n",
    "\n",
    "# Visualiza os dados\n",
    "print(media_por_ano)\n",
    "\n",
    "# Gera o gráfico\n",
    "import seaborn as sns\n",
    "import matplotlib.pyplot as plt\n",
    "\n",
    "plt.figure(figsize=(10, 6))\n",
    "sns.lineplot(data=media_por_ano, x='Ano', y='Valor', marker='o')\n",
    "plt.title('Tendência dos Níveis Médios de Poluição por Ano')\n",
    "plt.xlabel('Ano')\n",
    "plt.ylabel('Média de Poluição (µg/m³)')\n",
    "plt.grid(True)\n",
    "plt.tight_layout()\n",
    "plt.show()"
   ]
  },
  {
   "cell_type": "markdown",
   "id": "4232cb85",
   "metadata": {},
   "source": [
    "### Pergunta 5: Existe diferença nos níveis de poluição entre os dias da semana?\n",
    "\n",
    " **Justificativa:**  \n",
    "Analisar a média dos níveis de poluição por dia da semana ajuda a identificar padrões relacionados à rotina da sociedade. Dias úteis geralmente apresentam maior atividade industrial e tráfego, enquanto os fins de semana tendem a ter menor movimentação. Essa informação pode orientar medidas específicas de controle e planejamento urbano.\n",
    "\n",
    " **Resultado:**  \n",
    "\n",
    " **Interpretação:**  \n",
    "- Os níveis de poluição são mais altos nas **sextas-feiras**, seguidos de perto pelos outros dias úteis.  \n",
    "- O **domingo** apresenta os menores níveis médios de poluição, possivelmente devido à redução no tráfego e atividades industriais.  \n",
    "- O **sábado** mostra uma leve queda em relação aos dias úteis, mas ainda mais alto que o domingo.  \n",
    "- O padrão confirma que a **atividade humana nos dias úteis** contribui diretamente para o aumento da poluição.\n",
    "\n",
    " **Conclusão:**  \n",
    "Sim, existe diferença nos níveis de poluição entre os dias da semana. Os dias úteis apresentam níveis mais elevados, enquanto os fins de semana, especialmente o domingo, mostram redução significativa. Esses dados reforçam a relação direta entre atividade humana e a emissão de poluentes atmosféricos."
   ]
  },
  {
   "cell_type": "code",
   "execution_count": 22,
   "id": "a8bd0228",
   "metadata": {},
   "outputs": [
    {
     "name": "stderr",
     "output_type": "stream",
     "text": [
      "C:\\Users\\Jackson\\AppData\\Local\\Temp\\ipykernel_22648\\3352546921.py:23: FutureWarning: \n",
      "\n",
      "Passing `palette` without assigning `hue` is deprecated and will be removed in v0.14.0. Assign the `x` variable to `hue` and set `legend=False` for the same effect.\n",
      "\n",
      "  sns.barplot(x=media_por_dia.index, y=media_por_dia.values, palette='crest')\n"
     ]
    },
    {
     "data": {
      "image/png": "[encoded data removed]",
      "text/plain": [
       "<Figure size 1000x500 with 1 Axes>"
      ]
     },
     "metadata": {},
     "output_type": "display_data"
    }
   ],
   "source": [
    "# Extrair o dia da semana (0 = segunda-feira, 6 = domingo)\n",
    "df['Dia_Semana'] = df['Data'].dt.dayofweek\n",
    "\n",
    "# Mapeando os números para nomes dos dias\n",
    "dias_semana = {\n",
    "    0: 'Segunda',\n",
    "    1: 'Terça',\n",
    "    2: 'Quarta',\n",
    "    3: 'Quinta',\n",
    "    4: 'Sexta',\n",
    "    5: 'Sábado',\n",
    "    6: 'Domingo'\n",
    "}\n",
    "df['Dia_Semana'] = df['Dia_Semana'].map(dias_semana)\n",
    "\n",
    "# Calcular a média da poluição por dia da semana\n",
    "media_por_dia = df.groupby('Dia_Semana')['Valor'].mean().reindex([\n",
    "    'Segunda', 'Terça', 'Quarta', 'Quinta', 'Sexta', 'Sábado', 'Domingo'\n",
    "])\n",
    "\n",
    "# Plotar\n",
    "plt.figure(figsize=(10, 5))\n",
    "sns.barplot(x=media_por_dia.index, y=media_por_dia.values, palette='crest')\n",
    "plt.title('Média dos Níveis de Poluição por Dia da Semana')\n",
    "plt.xlabel('Dia da Semana')\n",
    "plt.ylabel('Média da Poluição (µg/m³)')\n",
    "plt.grid(True, axis='y', linestyle='--', alpha=0.5)\n",
    "plt.tight_layout()\n",
    "plt.show()"
   ]
  },
  {
   "cell_type": "markdown",
   "id": "5052494b",
   "metadata": {},
   "source": [
    "### Pergunta 6: Quantos registros estão acima da média de poluição e quais são os maiores?\n",
    "\n",
    "#### Justificativa:\n",
    "\n",
    "Investigar os registros acima da média auxilia na identificação de anomalias, além de destacar os períodos mais críticos de poluição. Essa análise permite ações direcionadas de fiscalização e alerta, sobretudo em momentos de risco à saúde pública.\n",
    "\n",
    "#### Resultado:\n",
    "\n",
    "* **Média geral dos níveis de poluição:** aproximadamente **82.94 µg/m³**\n",
    "* **Total de registros acima da média:** **2.296**\n",
    "\n",
    "#### Interpretação:\n",
    "\n",
    "Os 10 maiores registros de poluição estão significativamente acima da média. Esses picos extremos são momentos críticos que merecem atenção especial. São eles:\n",
    "\n",
    "| Data       | Hora  | Estação        | Poluente | Valor (µg/m³) |\n",
    "| ---------- | ----- | -------------- | -------- | ------------- |\n",
    "| 2021-10-01 | 00:00 | UNIFESP        | MP10     | 381.0         |\n",
    "| 2017-09-09 | 00:00 | CERQUERA CESAR | MP10     | 370.0         |\n",
    "| 2021-10-08 | 00:00 | UNIFESP        | MP10     | 351.0         |\n",
    "| 2021-10-04 | 00:00 | UNIFESP        | MP10     | 336.0         |\n",
    "| 2021-10-11 | 00:00 | UNIFESP        | MP10     | 335.0         |\n",
    "| 2021-10-07 | 00:00 | UNIFESP        | MP10     | 332.0         |\n",
    "| 2021-10-06 | 00:00 | UNIFESP        | MP10     | 331.0         |\n",
    "| 2021-10-05 | 00:00 | UNIFESP        | MP10     | 329.0         |\n",
    "| 2021-10-12 | 00:00 | UNIFESP        | MP10     | 328.0         |\n",
    "| 2021-10-09 | 00:00 | UNIFESP        | MP10     | 325.0         |\n",
    "\n",
    "#### Conclusão:\n",
    "\n",
    "A maioria dos maiores registros de poluição está concentrada na estação **UNIFESP**, principalmente em outubro de 2021, indicando um evento ou período crítico. O monitoramento e investigação de causas específicas nesses momentos são fundamentais para mitigar impactos à saúde pública e ao meio ambiente."
   ]
  },
  {
   "cell_type": "code",
   "execution_count": 23,
   "id": "4315a0e8",
   "metadata": {},
   "outputs": [
    {
     "name": "stdout",
     "output_type": "stream",
     "text": [
      "Total de registros acima da média: 1313463\n",
      "\n",
      "Registros com maiores níveis de poluição:\n",
      "              ID       Data                Hora                       Estacao  \\\n",
      "1662796  1662796 2016-06-17 1900-01-01 23:00:00                     Congonhas   \n",
      "2668753  2668753 2016-06-17 1900-01-01 22:00:00            São Caetano do Sul   \n",
      "341211    341211 2015-01-23 1900-01-01 08:00:00              Cubatão - Centro   \n",
      "1662797  1662797 2016-06-17 1900-01-01 23:55:00                     Congonhas   \n",
      "2426023  2426023 2016-06-17 1900-01-01 21:00:00  Santo André - Paço Municipal   \n",
      "2426025  2426025 2016-06-17 1900-01-01 23:00:00  Santo André - Paço Municipal   \n",
      "4270348  4270348 2017-08-08 1900-01-01 23:00:00  Santo André - Paço Municipal   \n",
      "1229639  1229639 2015-09-01 1900-01-01 07:00:00            São Caetano do Sul   \n",
      "4270346  4270346 2017-08-08 1900-01-01 21:00:00  Santo André - Paço Municipal   \n",
      "2426022  2426022 2016-06-17 1900-01-01 20:00:00  Santo André - Paço Municipal   \n",
      "\n",
      "        Codigo Poluente        Valor Unidade        Tipo   Ano Dia_Semana  \n",
      "1662796   SP16       CO  9981.291759   ug/m3  automatica  2016      Sexta  \n",
      "2668753   SP67       CO  9981.291759   ug/m3  automatica  2016      Sexta  \n",
      "341211    SP18      SO2  9645.000000   ug/m3  automatica  2015      Sexta  \n",
      "1662797   SP16       CO  9606.993318   ug/m3  automatica  2016      Sexta  \n",
      "2426023   SP62       CO  9482.227171   ug/m3  automatica  2016      Sexta  \n",
      "2426025   SP62       CO  9107.928731   ug/m3  automatica  2016      Sexta  \n",
      "4270348   SP62       CO  9107.928731   ug/m3  automatica  2017      Terça  \n",
      "1229639   SP67       CO  8983.162584   ug/m3  automatica  2015      Terça  \n",
      "4270346   SP62       CO  8858.396437   ug/m3  automatica  2017      Terça  \n",
      "2426022   SP62       CO  8858.396437   ug/m3  automatica  2016      Sexta  \n"
     ]
    }
   ],
   "source": [
    "# Calcular a média da coluna 'Valor'\n",
    "media_poluicao = df['Valor'].mean()\n",
    "\n",
    "# Filtrar registros acima da média\n",
    "acima_da_media = df[df['Valor'] > media_poluicao]\n",
    "\n",
    "# Ordenar os registros do maior para o menor\n",
    "acima_da_media_ordenado = acima_da_media.sort_values(by='Valor', ascending=False)\n",
    "\n",
    "# Mostrar resultados\n",
    "print(f'Total de registros acima da média: {len(acima_da_media)}')\n",
    "print('\\nRegistros com maiores níveis de poluição:')\n",
    "print(acima_da_media_ordenado.head(10))"
   ]
  },
  {
   "cell_type": "markdown",
   "id": "e6af57b3",
   "metadata": {},
   "source": [
    "#                                                            FASE 2"
   ]
  },
  {
   "cell_type": "markdown",
   "id": "a3a54fa2",
   "metadata": {},
   "source": [
    "## Análise por Tipos de Dados — Métodos de Estatística Descritiva\n",
    "\n",
    "Nesta seção, utilizamos métodos de estatística descritiva para identificar e classificar os tipos de variáveis presentes no conjunto de dados analisado. Essa distinção é essencial para aplicar técnicas estatísticas apropriadas, além de facilitar a compreensão da natureza das informações.\n",
    "\n",
    "Abaixo, categorizamos as variáveis do DataFrame em qualitativas nominais, qualitativas ordinais, quantitativas discretas e quantitativas contínuas, com base nas suas características e comportamento:"
   ]
  },
  {
   "cell_type": "markdown",
   "id": "1cc37dfc",
   "metadata": {},
   "source": [
    "### Tipos de Dados Presentes no DataFrame\n",
    "\n",
    "| Tipo de Dado                  | Coluna                  | Justificativa                                                                 |\n",
    "|------------------------------|--------------------------|------------------------------------------------------------------------------|\n",
    "| **Qualitativo Nominal**      | `Estacao`, `Poluente`    | Representam nomes de locais ou substâncias. Não possuem ordem entre os valores. |\n",
    "| **Qualitativo Ordinal**      | `Tipo`                   | Aparentemente indica o tipo de medição (ex: automática ou manual); se houvesse classificação da qualidade do ar (ex: \"boa\", \"moderada\", \"ruim\"), seria ordinal. |\n",
    "| **Quantitativo Discreto**    | `ID`, `Codigo`           | São números inteiros sem frações, utilizados como identificadores.          |\n",
    "| **Quantitativo Contínuo**    | `Valor`                  | Representa medições contínuas de poluentes (em µg/m³), podendo assumir valores decimais. |\n"
   ]
  },
  {
   "cell_type": "markdown",
   "id": "b2953dc2",
   "metadata": {},
   "source": [
    "###  Medidas de Tendência Central – Coluna `Valor`\n",
    "\n",
    "As medidas de tendência central são utilizadas para resumir um conjunto de dados com um único valor representativo. Abaixo estão os resultados obtidos para a coluna `Valor`:\n",
    "\n",
    "- **Média**: 83.31  \n",
    "  É a média aritmética dos valores. Representa o valor \"central\" esperado, considerando todos os dados. No contexto da poluição, indica a concentração média registrada de um determinado poluente.\n",
    "\n",
    "- **Mediana**: 22.0  \n",
    "  Valor que separa a metade inferior da metade superior dos dados. Como a mediana está bem abaixo da média, isso sugere uma distribuição assimétrica (possivelmente com valores extremos para cima).\n",
    "\n",
    "- **Moda**: 1.0  \n",
    "  Valor que mais se repete no conjunto de dados. No caso da coluna `Valor`, o valor mais frequente foi 1.0, o que pode indicar muitos registros com concentrações muito baixas ou próximas de zero.\n"
   ]
  },
  {
   "cell_type": "code",
   "execution_count": 24,
   "id": "357c2862",
   "metadata": {},
   "outputs": [
    {
     "name": "stdout",
     "output_type": "stream",
     "text": [
      "Medidas de Tendência Central para a coluna 'Valor':\n"
     ]
    },
    {
     "data": {
      "application/vnd.microsoft.datawrangler.viewer.v0+json": {
       "columns": [
        {
         "name": "index",
         "rawType": "int64",
         "type": "integer"
        },
        {
         "name": "Medida",
         "rawType": "object",
         "type": "string"
        },
        {
         "name": "Valor",
         "rawType": "float64",
         "type": "float"
        }
       ],
       "ref": "41325975-7ed3-487c-93a6-80727da918ec",
       "rows": [
        [
         "0",
         "Média",
         "83.31"
        ],
        [
         "1",
         "Mediana",
         "22.0"
        ],
        [
         "2",
         "Moda",
         "1.0"
        ]
       ],
       "shape": {
        "columns": 2,
        "rows": 3
       }
      },
      "text/html": [
       "<div>\n",
       "<style scoped>\n",
       "    .dataframe tbody tr th:only-of-type {\n",
       "        vertical-align: middle;\n",
       "    }\n",
       "\n",
       "    .dataframe tbody tr th {\n",
       "        vertical-align: top;\n",
       "    }\n",
       "\n",
       "    .dataframe thead th {\n",
       "        text-align: right;\n",
       "    }\n",
       "</style>\n",
       "<table border=\"1\" class=\"dataframe\">\n",
       "  <thead>\n",
       "    <tr style=\"text-align: right;\">\n",
       "      <th></th>\n",
       "      <th>Medida</th>\n",
       "      <th>Valor</th>\n",
       "    </tr>\n",
       "  </thead>\n",
       "  <tbody>\n",
       "    <tr>\n",
       "      <th>0</th>\n",
       "      <td>Média</td>\n",
       "      <td>83.31</td>\n",
       "    </tr>\n",
       "    <tr>\n",
       "      <th>1</th>\n",
       "      <td>Mediana</td>\n",
       "      <td>22.00</td>\n",
       "    </tr>\n",
       "    <tr>\n",
       "      <th>2</th>\n",
       "      <td>Moda</td>\n",
       "      <td>1.00</td>\n",
       "    </tr>\n",
       "  </tbody>\n",
       "</table>\n",
       "</div>"
      ],
      "text/plain": [
       "    Medida  Valor\n",
       "0    Média  83.31\n",
       "1  Mediana  22.00\n",
       "2     Moda   1.00"
      ]
     },
     "metadata": {},
     "output_type": "display_data"
    }
   ],
   "source": [
    "# Seleciona apenas a coluna 'Valor'\n",
    "coluna_valor = df['Valor']\n",
    "\n",
    "# Calcula as medidas de tendência central\n",
    "media = round(coluna_valor.mean(), 2)  \n",
    "mediana = coluna_valor.median()\n",
    "moda = coluna_valor.mode().iloc[0]     \n",
    "\n",
    "tendencia_central_valor = pd.DataFrame({\n",
    "    'Medida': ['Média', 'Mediana', 'Moda'],\n",
    "    'Valor': [media, mediana, moda]\n",
    "})\n",
    "\n",
    "print(\"Medidas de Tendência Central para a coluna 'Valor':\")\n",
    "display(tendencia_central_valor)\n"
   ]
  },
  {
   "cell_type": "markdown",
   "id": "b9608379",
   "metadata": {},
   "source": [
    "###  Medidas de Dispersão – Coluna `Valor`\n",
    "\n",
    "As medidas de dispersão ajudam a entender a variabilidade dos dados em relação à média. Abaixo estão os resultados extraídos para a coluna `Valor`:\n",
    "\n",
    "- **Amplitude**: 9981.29  \n",
    "  Representa a diferença entre o maior e o menor valor da variável. Nesse caso, os valores de concentração variam quase 10.000 unidades, o que indica um grande intervalo de variação.\n",
    "\n",
    "- **Desvio Padrão**: 250.01  \n",
    "  Mede o quanto, em média, os dados se afastam da média. Um desvio padrão alto sugere que os valores estão bem dispersos em torno da média.\n",
    "\n",
    "- **Variância**: 62503.54  \n",
    "  É o quadrado do desvio padrão. Indica a variabilidade dos dados, mas por estar em unidades elevadas (ug/m³)², nem sempre é tão intuitiva.\n",
    "\n",
    "- **Coeficiente de Variação (CV)**: 300.10%  \n",
    "  É uma medida relativa que relaciona o desvio padrão com a média. Um CV acima de 100% mostra que a dispersão é muito alta em relação à média — neste caso, os dados são altamente variáveis.\n"
   ]
  },
  {
   "cell_type": "code",
   "execution_count": null,
   "id": "8129f25a",
   "metadata": {},
   "outputs": [
    {
     "name": "stdout",
     "output_type": "stream",
     "text": [
      "Medidas de Dispersão para a coluna 'Valor':\n"
     ]
    },
    {
     "data": {
      "application/vnd.microsoft.datawrangler.viewer.v0+json": {
       "columns": [
        {
         "name": "index",
         "rawType": "int64",
         "type": "integer"
        },
        {
         "name": "Medida",
         "rawType": "object",
         "type": "string"
        },
        {
         "name": "Valor",
         "rawType": "float64",
         "type": "float"
        }
       ],
       "ref": "1f1bf631-42f2-43d9-96ad-3fa7bbaff5b4",
       "rows": [
        [
         "0",
         "Amplitude",
         "9981.291759"
        ],
        [
         "1",
         "Desvio Padrão",
         "250.00708876284062"
        ],
        [
         "2",
         "Variância",
         "62503.544431670874"
        ],
        [
         "3",
         "Coef. de Variação (%)",
         "300.09700812680416"
        ]
       ],
       "shape": {
        "columns": 2,
        "rows": 4
       }
      },
      "text/html": [
       "<div>\n",
       "<style scoped>\n",
       "    .dataframe tbody tr th:only-of-type {\n",
       "        vertical-align: middle;\n",
       "    }\n",
       "\n",
       "    .dataframe tbody tr th {\n",
       "        vertical-align: top;\n",
       "    }\n",
       "\n",
       "    .dataframe thead th {\n",
       "        text-align: right;\n",
       "    }\n",
       "</style>\n",
       "<table border=\"1\" class=\"dataframe\">\n",
       "  <thead>\n",
       "    <tr style=\"text-align: right;\">\n",
       "      <th></th>\n",
       "      <th>Medida</th>\n",
       "      <th>Valor</th>\n",
       "    </tr>\n",
       "  </thead>\n",
       "  <tbody>\n",
       "    <tr>\n",
       "      <th>0</th>\n",
       "      <td>Amplitude</td>\n",
       "      <td>9981.291759</td>\n",
       "    </tr>\n",
       "    <tr>\n",
       "      <th>1</th>\n",
       "      <td>Desvio Padrão</td>\n",
       "      <td>250.007089</td>\n",
       "    </tr>\n",
       "    <tr>\n",
       "      <th>2</th>\n",
       "      <td>Variância</td>\n",
       "      <td>62503.544432</td>\n",
       "    </tr>\n",
       "    <tr>\n",
       "      <th>3</th>\n",
       "      <td>Coef. de Variação (%)</td>\n",
       "      <td>300.097008</td>\n",
       "    </tr>\n",
       "  </tbody>\n",
       "</table>\n",
       "</div>"
      ],
      "text/plain": [
       "                  Medida         Valor\n",
       "0              Amplitude   9981.291759\n",
       "1          Desvio Padrão    250.007089\n",
       "2              Variância  62503.544432\n",
       "3  Coef. de Variação (%)    300.097008"
      ]
     },
     "metadata": {},
     "output_type": "display_data"
    }
   ],
   "source": [
    "# Seleciona a coluna 'Valor'\n",
    "coluna_valor = df['Valor']\n",
    "\n",
    "# Calcula as medidas de dispersão\n",
    "amplitude = coluna_valor.max() - coluna_valor.min()\n",
    "desvio_padrao = coluna_valor.std()\n",
    "variancia = coluna_valor.var()\n",
    "media = coluna_valor.mean()\n",
    "coef_var = (desvio_padrao / media) * 100\n",
    "\n",
    "# Exibe os resultados em formato organizado\n",
    "medidas_dispersao_valor = pd.DataFrame({\n",
    "    'Medida': ['Amplitude', 'Desvio Padrão', 'Variância', 'Coef. de Variação (%)'],\n",
    "    'Valor': [amplitude, desvio_padrao, variancia, coef_var]\n",
    "})\n",
    "\n",
    "print(\"Medidas de Dispersão para a coluna 'Valor':\")\n",
    "display(medidas_dispersao_valor)"
   ]
  },
  {
   "cell_type": "markdown",
   "id": "b90ae938",
   "metadata": {},
   "source": [
    "### Análise dos Valores de Poluentes\n",
    "\n",
    "#### Pergunta  \n",
    "Dado que a média dos valores registrados é **83,31**, mas a mediana é **22,00** e a moda é **1,0**, com um desvio padrão de aproximadamente **250,01** e um coeficiente de variação de **300%**, o que isso indica sobre a distribuição dos valores de poluentes registrados?\n",
    "\n",
    "#### Conclusão  \n",
    "Os valores de poluentes apresentam uma **distribuição assimétrica à direita**, com uma **forte dispersão** dos dados em relação à média. A grande diferença entre média (83,31), mediana (22,00) e moda (1,0) mostra que há muitos valores baixos e alguns valores extremamente altos que puxam a média para cima.\n",
    "\n",
    "Além disso, o **coeficiente de variação de 300%** indica uma **altíssima variabilidade relativa**, o que significa que os dados estão altamente espalhados em torno da média. A **amplitude de quase 10.000** reforça a ideia de que existem valores atípicos muito altos.\n",
    "\n",
    "Essas características sugerem que o nível de poluentes sofre **variações extremas ao longo do tempo**, o que pode estar associado a fatores ambientais, horários de pico de tráfego ou diferentes regiões monitoradas. É necessário ter cuidado ao interpretar a média nesse caso, pois ela **não representa adequadamente a maioria dos valores observados**.\n"
   ]
  },
  {
   "cell_type": "markdown",
   "id": "09d1fb17",
   "metadata": {},
   "source": [
    "### Análise de Outliers com Intervalo Interquartil (IQR)\n",
    "\n",
    "Nesta análise, utilizamos o método do **Intervalo Interquartil (IQR)** para identificar outliers na coluna **`Valor`**.\n",
    "\n",
    "#### Estatísticas Calculadas:\n",
    "- **Q1 (1º Quartil):** 9.0  \n",
    "- **Q3 (3º Quartil):** 45.0  \n",
    "- **IQR (Q3 - Q1):** 36.0  \n",
    "- **Limite Inferior:** -45.0  \n",
    "- **Limite Superior:** 99.0\n",
    "\n",
    "Valores inferiores a -45.0 ou superiores a 99.0 são considerados outliers. Como todos os valores da base são maiores que -45.0, apenas os valores **acima de 99.0** foram identificados como outliers.\n",
    "\n",
    "#### Total de Outliers Detectados:\n",
    "**1.113.840** valores excederam o limite superior de 99.0.\n",
    "\n",
    "#### Exemplos de Outliers:\n",
    "- 106.0 (índice 285)  \n",
    "- 107.0 (índice 468)  \n",
    "- 108.0 (índice 482)  \n",
    "- 143.0 (índice 1694)  \n",
    "- 153.0 (índice 1979)  \n",
    "\n",
    "#### Conclusão:\n",
    "A quantidade significativa de outliers identificados acima do valor 99.0 demonstra que a distribuição dos dados é **assimétrica e enviesada positivamente**, com muitos valores concentrados em uma cauda longa à direita. Esse padrão pode indicar:\n",
    "- Presença de registros extremos (ex. valores monetários muito altos)\n",
    "- Possível necessidade de tratamento (remoção ou transformação dos dados)\n",
    "- Potencial distorção na média e em outras medidas estatísticas\n",
    "\n",
    "Recomenda-se avaliar o impacto desses outliers nos resultados antes de prosseguir com análises mais aprofundadas.\n"
   ]
  },
  {
   "cell_type": "code",
   "execution_count": 26,
   "id": "c965894d",
   "metadata": {},
   "outputs": [
    {
     "name": "stdout",
     "output_type": "stream",
     "text": [
      "Q1: 9.0\n",
      "Q3: 45.0\n",
      "IQR: 36.0\n",
      "Limite Inferior: -45.0\n",
      "Limite Superior: 99.0\n",
      "Número de Outliers Detectados: 1113840\n"
     ]
    },
    {
     "data": {
      "application/vnd.microsoft.datawrangler.viewer.v0+json": {
       "columns": [
        {
         "name": "index",
         "rawType": "int64",
         "type": "integer"
        },
        {
         "name": "Valor",
         "rawType": "float64",
         "type": "float"
        }
       ],
       "ref": "b153e560-5136-4af2-87c5-db3079b32a85",
       "rows": [
        [
         "285",
         "106.0"
        ],
        [
         "468",
         "107.0"
        ],
        [
         "482",
         "108.0"
        ],
        [
         "1585",
         "104.0"
        ],
        [
         "1694",
         "143.0"
        ],
        [
         "1698",
         "121.0"
        ],
        [
         "1979",
         "153.0"
        ],
        [
         "1982",
         "113.0"
        ],
        [
         "1983",
         "127.0"
        ],
        [
         "1986",
         "103.0"
        ],
        [
         "1994",
         "122.0"
        ],
        [
         "2024",
         "102.0"
        ],
        [
         "2030",
         "160.0"
        ],
        [
         "2033",
         "103.0"
        ],
        [
         "2047",
         "109.0"
        ],
        [
         "2249",
         "135.0"
        ],
        [
         "2250",
         "138.0"
        ],
        [
         "2826",
         "105.0"
        ],
        [
         "3120",
         "105.0"
        ],
        [
         "3121",
         "100.0"
        ],
        [
         "3170",
         "113.0"
        ],
        [
         "3209",
         "207.0"
        ],
        [
         "3210",
         "119.0"
        ],
        [
         "3234",
         "116.0"
        ],
        [
         "3242",
         "122.0"
        ],
        [
         "3243",
         "179.0"
        ],
        [
         "3257",
         "103.0"
        ],
        [
         "3258",
         "116.0"
        ],
        [
         "3288",
         "105.0"
        ],
        [
         "3305",
         "123.0"
        ],
        [
         "3330",
         "107.0"
        ],
        [
         "3354",
         "115.0"
        ],
        [
         "3393",
         "107.0"
        ],
        [
         "3426",
         "108.0"
        ],
        [
         "3450",
         "118.0"
        ],
        [
         "3456",
         "120.0"
        ],
        [
         "3470",
         "140.0"
        ],
        [
         "3471",
         "103.0"
        ],
        [
         "3473",
         "127.0"
        ],
        [
         "3474",
         "144.0"
        ],
        [
         "3475",
         "110.0"
        ],
        [
         "3494",
         "109.0"
        ],
        [
         "3497",
         "126.0"
        ],
        [
         "3498",
         "131.0"
        ],
        [
         "3499",
         "104.0"
        ],
        [
         "3502",
         "184.0"
        ],
        [
         "3503",
         "123.0"
        ],
        [
         "3504",
         "115.0"
        ],
        [
         "3520",
         "147.0"
        ],
        [
         "3521",
         "347.0"
        ]
       ],
       "shape": {
        "columns": 1,
        "rows": 1113840
       }
      },
      "text/plain": [
       "285         106.0\n",
       "468         107.0\n",
       "482         108.0\n",
       "1585        104.0\n",
       "1694        143.0\n",
       "            ...  \n",
       "10980180    133.0\n",
       "10980181    147.0\n",
       "10980182    103.0\n",
       "10980267    119.0\n",
       "10980401    126.0\n",
       "Name: Valor, Length: 1113840, dtype: float64"
      ]
     },
     "metadata": {},
     "output_type": "display_data"
    }
   ],
   "source": [
    "# Seleciona a coluna numérica\n",
    "coluna_valor = df['Valor']\n",
    "\n",
    "# Calcula os quartis\n",
    "q1 = coluna_valor.quantile(0.25)\n",
    "q3 = coluna_valor.quantile(0.75)\n",
    "iqr = q3 - q1\n",
    "\n",
    "# Define os limites para outliers\n",
    "limite_inferior = q1 - 1.5 * iqr\n",
    "limite_superior = q3 + 1.5 * iqr\n",
    "\n",
    "# Filtra os possíveis outliers\n",
    "outliers = coluna_valor[(coluna_valor < limite_inferior) | (coluna_valor > limite_superior)]\n",
    "sem_outliers = coluna_valor[(coluna_valor >= limite_inferior) & (coluna_valor <= limite_superior)]\n",
    "\n",
    "# Exibe os resultados\n",
    "print(f\"Q1: {q1}\")\n",
    "print(f\"Q3: {q3}\")\n",
    "print(f\"IQR: {iqr}\")\n",
    "print(f\"Limite Inferior: {limite_inferior}\")\n",
    "print(f\"Limite Superior: {limite_superior}\")\n",
    "print(f\"Número de Outliers Detectados: {outliers.count()}\")\n",
    "\n",
    "# Visualização opcional dos valores extremos\n",
    "display(outliers)\n"
   ]
  },
  {
   "cell_type": "markdown",
   "id": "312263b5",
   "metadata": {},
   "source": [
    "## **Qual é a proporção dos tipos de poluentes medidos ao longo do tempo?**\n",
    "\n",
    "### Explicação\n",
    "\n",
    "O gráfico de pizza representa a **distribuição percentual dos diferentes tipos de poluentes** medidos ao longo do tempo. Cada fatia do gráfico mostra a proporção de registros associados a um determinado poluente com base na frequência de ocorrência na base de dados. Esse tipo de visualização é útil para identificar quais poluentes são mais monitorados e, possivelmente, mais prevalentes nas áreas estudadas.\n",
    "\n",
    "### Insight\n",
    "\n",
    "A análise mostra que os poluentes **MP10** (26,3%) e **O₃ (ozônio)** (24,1%) dominam a distribuição, respondendo juntos por mais de **50% de todas as medições**. Isso indica que:\n",
    "\n",
    "- **MP10** é um dos principais componentes particulados do ar e sua alta frequência de medição reflete a preocupação com seus impactos na saúde, especialmente doenças respiratórias.\n",
    "- **Ozônio (O₃)** também recebe atenção significativa, sendo associado a poluição fotoquímica e agravamento de problemas pulmonares.\n",
    "\n",
    "Esse padrão sugere que esses dois poluentes representam os **principais desafios ambientais** enfrentados nas regiões monitoradas e merecem atenção especial em políticas públicas de controle da qualidade do ar.\n"
   ]
  },
  {
   "cell_type": "code",
   "execution_count": 27,
   "id": "5cbf8ee3",
   "metadata": {},
   "outputs": [
    {
     "data": {
      "image/png": "[encoded data removed]",
      "text/plain": [
       "<Figure size 800x800 with 1 Axes>"
      ]
     },
     "metadata": {},
     "output_type": "display_data"
    }
   ],
   "source": [
    "# Contar a frequência de cada poluente\n",
    "poluente_counts = df['Poluente'].value_counts()\n",
    "\n",
    "# Criar gráfico de pizza\n",
    "plt.figure(figsize=(8, 8))\n",
    "plt.pie(poluente_counts, labels=poluente_counts.index, autopct='%1.1f%%', startangle=140)\n",
    "plt.title('Distribuição dos Tipos de Poluentes Medidos')\n",
    "plt.axis('equal')  # Deixa o gráfico redondo\n",
    "plt.show()"
   ]
  },
  {
   "cell_type": "markdown",
   "id": "07779d3d",
   "metadata": {},
   "source": [
    "## **Pergunta:** Existem outliers nos valores de concentração de MP10?\n",
    "\n",
    "Sim, existem **outliers significativos** nos valores de concentração do poluente MP10.\n",
    "\n",
    "#### Explicação:\n",
    "\n",
    "O boxplot apresenta os seguintes parâmetros estatísticos:\n",
    "\n",
    "* **Q1 (1º quartil):** 13.0\n",
    "* **Q3 (3º quartil):** 37.0\n",
    "* **IQR (Intervalo Interquartil):** 24.0\n",
    "* **Limite Inferior:** -23.0\n",
    "* **Limite Superior:** 73.0\n",
    "* **Outliers detectados:** 157.540 valores\n",
    "\n",
    "Com base no cálculo do IQR, qualquer valor de concentração acima de **73.0 µg/m³** é considerado outlier. Como a distribuição dos dados é assimétrica à direita (com muitos pontos extremos para cima), o gráfico mostra uma grande quantidade de círculos acima da caixa, representando esses valores extremos.\n",
    "\n",
    "#### Insight:\n",
    "\n",
    "A presença de **mais de 157 mil outliers** indica que existem episódios de concentração de MP10 muito acima do esperado, o que pode estar relacionado a eventos pontuais de poluição intensa, falhas de medição, ou características locais da estação. Esses valores extremos podem distorcer análises estatísticas tradicionais e devem ser analisados separadamente para entender suas causas."
   ]
  },
  {
   "cell_type": "code",
   "execution_count": 28,
   "id": "c4fd7922",
   "metadata": {},
   "outputs": [
    {
     "name": "stdout",
     "output_type": "stream",
     "text": [
      "Q1: 13.0\n",
      "Q3: 37.0\n",
      "IQR: 24.0\n",
      "Limite Inferior: -23.0\n",
      "Limite Superior: 73.0\n",
      "Número de Outliers Detectados: 157540\n"
     ]
    },
    {
     "data": {
      "image/png": "[encoded data removed]",
      "text/plain": [
       "<Figure size 1000x600 with 1 Axes>"
      ]
     },
     "metadata": {},
     "output_type": "display_data"
    }
   ],
   "source": [
    "# Filtrar apenas os registros de MP10\n",
    "df_mp10 = df[df['Poluente'] == 'MP10']\n",
    "\n",
    "# Calcular Q1, Q3 e IQR\n",
    "q1 = df_mp10['Valor'].quantile(0.25)\n",
    "q3 = df_mp10['Valor'].quantile(0.75)\n",
    "iqr = q3 - q1\n",
    "\n",
    "# Definir limites para outliers\n",
    "limite_inferior = q1 - 1.5 * iqr\n",
    "limite_superior = q3 + 1.5 * iqr\n",
    "\n",
    "# Detectar outliers\n",
    "outliers = df_mp10[(df_mp10['Valor'] < limite_inferior) | (df_mp10['Valor'] > limite_superior)]\n",
    "\n",
    "# Mostrar quantidade de outliers\n",
    "print(f\"Q1: {q1}\")\n",
    "print(f\"Q3: {q3}\")\n",
    "print(f\"IQR: {iqr}\")\n",
    "print(f\"Limite Inferior: {limite_inferior}\")\n",
    "print(f\"Limite Superior: {limite_superior}\")\n",
    "print(f\"Número de Outliers Detectados: {len(outliers)}\")\n",
    "\n",
    "# Plotar boxplot\n",
    "plt.figure(figsize=(10, 6))\n",
    "sns.boxplot(data=df_mp10, x='Poluente', y='Valor')\n",
    "plt.title('Boxplot da Concentração de MP10')\n",
    "plt.ylabel('Concentração (ug/m3)')\n",
    "plt.xlabel('Poluente')\n",
    "plt.grid(True)\n",
    "plt.show()"
   ]
  },
  {
   "cell_type": "markdown",
   "id": "38166903",
   "metadata": {},
   "source": [
    "###  Histograma – Distribuição da Concentração de MP10\n",
    "\n",
    "\n",
    "#### **Explicação**\n",
    "\n",
    "O histograma acima representa a distribuição das concentrações do poluente MP10 (material particulado inalável com diâmetro até 10 μm). As barras mostram com que frequência diferentes faixas de concentração aparecem no conjunto de dados.\n",
    "\n",
    "É possível observar que a maior parte das medições está concentrada nas faixas mais baixas de concentração, principalmente abaixo de **50 µg/m³**, com frequência decrescendo rapidamente conforme o valor aumenta. Há uma cauda longa à direita (distribuição assimétrica), o que indica a presença de **valores extremos (outliers)** com concentrações significativamente elevadas.\n",
    "\n",
    "#### **Insight**\n",
    "\n",
    "A distribuição de MP10 é fortemente assimétrica à direita, o que sugere que, embora a maioria dos registros indique concentrações moderadas ou baixas, **ocorrem picos de poluição que podem representar eventos críticos para a saúde pública e o meio ambiente**. Isso reforça a importância do monitoramento contínuo, especialmente em regiões propensas a essas elevações esporádicas, para que medidas preventivas possam ser tomadas em tempo hábil."
   ]
  },
  {
   "cell_type": "code",
   "execution_count": 29,
   "id": "f445758d",
   "metadata": {},
   "outputs": [
    {
     "data": {
      "image/png": "[encoded data removed]",
      "text/plain": [
       "<Figure size 1200x600 with 1 Axes>"
      ]
     },
     "metadata": {},
     "output_type": "display_data"
    }
   ],
   "source": [
    "df_mp10 = df[df['Poluente'] == 'MP10'].copy()\n",
    "\n",
    "# Convertendo a coluna 'Data' para datetime\n",
    "df_mp10['Data'] = pd.to_datetime(df_mp10['Data'])\n",
    "\n",
    "# Ordenando os dados por data\n",
    "df_mp10 = df_mp10.sort_values(by='Data')\n",
    "\n",
    "# Plotando o histograma da concentração de MP10\n",
    "plt.figure(figsize=(12, 6))\n",
    "plt.hist(df_mp10['Valor'], bins=50, color='skyblue', edgecolor='black')\n",
    "plt.title('Distribuição da Concentração de MP10', fontsize=14)\n",
    "plt.xlabel('Concentração (µg/m³)', fontsize=12)\n",
    "plt.ylabel('Frequência', fontsize=12)\n",
    "plt.grid(axis='y', linestyle='--', alpha=0.7)\n",
    "plt.tight_layout()\n",
    "plt.show()"
   ]
  },
  {
   "cell_type": "markdown",
   "id": "11ff2abb",
   "metadata": {},
   "source": [
    "### 4. Gráfico de Distribuição (KDE)\n",
    "\n",
    "**Pergunta:** A distribuição dos valores de O₃ é simétrica?\n",
    "\n",
    "#### Explicação\n",
    "\n",
    "O gráfico KDE (Kernel Density Estimation) mostra como os valores de concentração de ozônio (O₃) estão distribuídos ao longo das observações.\n",
    "\n",
    "A curva apresenta um **pico acentuado à esquerda**, com uma **cauda longa à direita**, o que caracteriza uma **distribuição assimétrica** com **assimetria positiva (ou à direita)**. Ou seja, a maioria dos valores de O₃ está concentrada em baixas concentrações, enquanto há alguns poucos valores muito altos que se estendem na cauda.\n",
    "\n",
    "Essa característica indica que a média tende a ser maior que a mediana, o que é típico de distribuições com outliers à direita.\n",
    "\n",
    "#### Insight\n",
    "\n",
    "A distribuição assimétrica dos valores de O₃ sugere que, embora os níveis de ozônio geralmente permaneçam baixos, existem eventos esporádicos em que sua concentração aumenta significativamente. Esses picos podem estar relacionados a fatores como **condições climáticas específicas, alta emissão de precursores do ozônio ou baixa dispersão atmosférica**.\n",
    "\n",
    "Essa informação é importante para a formulação de políticas públicas de monitoramento da qualidade do ar, pois mostra que é necessário atenção redobrada a esses eventos de alta concentração — mesmo que sejam raros.\n"
   ]
  },
  {
   "cell_type": "code",
   "execution_count": 30,
   "id": "816485d6",
   "metadata": {},
   "outputs": [
    {
     "data": {
      "image/png": "[encoded data removed]",
      "text/plain": [
       "<Figure size 1000x600 with 1 Axes>"
      ]
     },
     "metadata": {},
     "output_type": "display_data"
    }
   ],
   "source": [
    "# Filtrando apenas os dados de O3\n",
    "df_o3 = df[df['Poluente'] == 'O3']\n",
    "\n",
    "# Plotando a curva de densidade (KDE)\n",
    "plt.figure(figsize=(10,6))\n",
    "sns.kdeplot(df_o3['Valor'], color='green', fill=True)\n",
    "plt.title('Distribuição KDE da Concentração de O3', fontsize=14)\n",
    "plt.xlabel('Concentração (µg/m³)', fontsize=12)\n",
    "plt.ylabel('Densidade', fontsize=12)\n",
    "plt.grid(True, linestyle='--', alpha=0.7)\n",
    "plt.tight_layout()\n",
    "plt.show()"
   ]
  },
  {
   "cell_type": "markdown",
   "id": "352b89ff",
   "metadata": {},
   "source": [
    "### 5. Gráfico de Dispersão (Scatter Plot)\n",
    "\n",
    "**Pergunta:** Existe padrão nos valores de MP10 ao longo dos anos?\n",
    "\n",
    "#### Explicação\n",
    "\n",
    "O gráfico de dispersão apresenta a concentração do poluente **MP10 (material particulado)** ao longo de diferentes anos, com cada ponto representando uma medição individual.\n",
    "\n",
    "Visualmente, observa-se que a dispersão dos dados é ampla em todos os anos, indicando **alta variabilidade na concentração de MP10** ao longo do tempo. Alguns pontos estão muito acima dos demais, evidenciando a presença de **outliers (valores anormalmente altos)**. Também é possível perceber que a **quantidade de dados e o padrão de dispersão se mantêm relativamente constantes**, com exceção de picos mais extremos em anos específicos, como 2021.\n",
    "\n",
    "Esse tipo de gráfico é útil para observar **mudanças temporais** e detectar possíveis **eventos de alta poluição**.\n",
    "\n",
    "#### Insight\n",
    "\n",
    "A análise sugere que, embora a concentração de MP10 varie bastante ano a ano, **não há uma tendência clara de aumento ou redução** no período observado. No entanto, os picos de concentração indicam possíveis episódios de poluição mais severa, que podem ter impactos significativos na saúde da população.\n",
    "\n",
    "Esses eventos extremos podem estar relacionados a **queimadas, aumento no tráfego de veículos, condições meteorológicas adversas ou falhas no controle de emissões**. Portanto, é essencial que os órgãos de monitoramento ambiental fiquem atentos a esses anos atípicos e investiguem suas causas para mitigar futuros riscos à qualidade do ar."
   ]
  },
  {
   "cell_type": "code",
   "execution_count": 31,
   "id": "223e00e4",
   "metadata": {},
   "outputs": [
    {
     "data": {
      "image/png": "[encoded data removed]",
      "text/plain": [
       "<Figure size 1200x600 with 1 Axes>"
      ]
     },
     "metadata": {},
     "output_type": "display_data"
    }
   ],
   "source": [
    "# 1. Garantir que os dados estão no formato correto\n",
    "df['Hora'] = pd.to_numeric(df['Hora'], errors='coerce')\n",
    "df = df.dropna(subset=['Hora', 'Valor'])\n",
    "df['Hora'] = df['Hora'].astype(int)\n",
    "\n",
    "# 2. Converter a coluna 'Data' para datetime (caso ainda não esteja)\n",
    "df['Data'] = pd.to_datetime(df['Data'])\n",
    "\n",
    "# 3. Criar uma nova coluna com o ano extraído\n",
    "df['Ano'] = df['Data'].dt.year\n",
    "\n",
    "# 4. Filtrar apenas os dados de MP10\n",
    "df_mp10 = df[df['Poluente'] == 'MP10']\n",
    "\n",
    "# 5. Gráfico de dispersão por ano\n",
    "plt.figure(figsize=(12, 6))\n",
    "sns.scatterplot(data=df_mp10, x='Ano', y='Valor', alpha=0.5)\n",
    "plt.title('Dispersão da Concentração de MP10 ao Longo dos Anos')\n",
    "plt.xlabel('Ano')\n",
    "plt.ylabel('Concentração (µg/m³)')\n",
    "plt.grid(True)\n",
    "plt.tight_layout()\n",
    "plt.show()"
   ]
  },
  {
   "cell_type": "markdown",
   "id": "4efd3404",
   "metadata": {},
   "source": [
    "### 6. Mapa de Correlação (Heatmap)\n",
    "\n",
    "**Pergunta:** Há correlação entre os diferentes poluentes monitorados?\n",
    "\n",
    "#### Explicação\n",
    "\n",
    "O mapa de correlação (heatmap) apresenta visualmente como os diferentes poluentes atmosféricos se relacionam entre si. Cada célula representa o coeficiente de correlação de Pearson entre dois poluentes, variando de **-1** (correlação negativa perfeita) a **+1** (correlação positiva perfeita).\n",
    "\n",
    "Alguns destaques observados:\n",
    "\n",
    "* **MP10 e MP2.5** apresentam **alta correlação positiva (0.92)**, indicando que costumam variar juntas. Isso é esperado, já que ambas representam partículas inaláveis, embora de tamanhos diferentes.\n",
    "* **NO e NO₂** também se correlacionam com **CO** e **FMC**, sugerindo que esses poluentes podem ter **fontes de emissão comuns**, como **veículos automotores**.\n",
    "* O **ozônio (O₃)** tem **correlação negativa** com diversos poluentes, especialmente com **NO (-0.48)**, o que indica que **quando NO aumenta, O₃ tende a diminuir**. Isso se alinha ao fato de que o NO pode reagir com o O₃, consumindo-o.\n",
    "* **SO₂** apresenta correlações fracas com os demais poluentes, sugerindo uma **origem mais específica** ou isolada.\n",
    "\n",
    "#### Insight\n",
    "\n",
    "O mapa revela padrões importantes de interdependência entre os poluentes. A forte correlação entre MP10 e MP2.5 reforça a necessidade de tratá-los conjuntamente em análises de qualidade do ar. A associação entre NO, NO₂, CO e FMC evidencia um **grupo de poluentes tipicamente ligados à queima de combustíveis fósseis**, especialmente no tráfego urbano.\n",
    "\n",
    "Por outro lado, o comportamento oposto do ozônio em relação a esses poluentes destaca sua **formação secundária** e **dinâmica mais complexa**, influenciada por reações químicas na atmosfera e fatores como radiação solar.\n",
    "\n",
    "Compreender essas correlações é essencial para **diagnosticar fontes de poluição** e **definir políticas públicas eficientes de controle e monitoramento ambiental**."
   ]
  },
  {
   "cell_type": "code",
   "execution_count": 32,
   "id": "a0032e7f",
   "metadata": {},
   "outputs": [
    {
     "data": {
      "image/png": "[encoded data removed]",
      "text/plain": [
       "<Figure size 1200x800 with 2 Axes>"
      ]
     },
     "metadata": {},
     "output_type": "display_data"
    }
   ],
   "source": [
    "# Filtra apenas os poluentes numéricos (como MP10, MP2.5, O3, NO2, etc.)\n",
    "# Primeiro, cria uma nova tabela com pivot por Data, Hora e Poluente\n",
    "df_poluentes = df.pivot_table(values='Valor', index=['Data', 'Hora'], columns='Poluente', aggfunc='mean')\n",
    "\n",
    "# Calcula a matriz de correlação\n",
    "correlacao = df_poluentes.corr()\n",
    "\n",
    "# Configura o tamanho e estilo do gráfico\n",
    "plt.figure(figsize=(12, 8))\n",
    "sns.heatmap(correlacao, annot=True, cmap='coolwarm', fmt=\".2f\", linewidths=0.5)\n",
    "\n",
    "# Título do gráfico\n",
    "plt.title('Mapa de Correlação entre Poluentes')\n",
    "plt.show()"
   ]
  },
  {
   "cell_type": "markdown",
   "id": "e3843189",
   "metadata": {},
   "source": [
    "### Correlação (sem indicar causa direta)\n",
    "\n",
    "**MP10 e MP2.5 (r = 0.92)**\n",
    "Existe uma **forte correlação positiva** entre MP10 e MP2.5, o que significa que, quando uma aumenta, a outra também tende a aumentar.\n",
    "\n",
    " **Explicação:** Isso é esperado, pois MP2.5 está contido dentro do MP10 — ou seja, todo material particulado de 2,5 micrômetros de diâmetro também faz parte do total de particulados até 10 micrômetros. No entanto, **essa correlação não implica causalidade**, apenas que elas ocorrem juntas, provavelmente por virem das **mesmas fontes**, como emissões veiculares, industriais e poeira.\n",
    "\n",
    "---\n",
    "\n",
    "### Causalidade (com justificativa física/química)\n",
    "\n",
    "**NO e O₃ (r = -0.48)**\n",
    "Há uma **correlação negativa** entre dióxido de nitrogênio (NO) e ozônio (O₃), e neste caso é possível inferir uma **relação causal** com base em conhecimento químico.\n",
    "\n",
    " **Explicação:** O NO reage com o ozônio na atmosfera, reduzindo sua concentração (NO + O₃ → NO₂ + O₂). Assim, quando os níveis de NO aumentam, o O₃ tende a diminuir — esse é um exemplo clássico de **causalidade química direta**, e não apenas uma correlação estatística.\n",
    "\n",
    "---\n",
    "\n",
    "### Correlação Espúria (possivelmente não causal)\n",
    "\n",
    "**PTS e FMC (r = 0.58)**\n",
    "Essa é uma correlação moderada entre **partículas totais em suspensão (PTS)** e **fumaça (FMC)**. No entanto, essa correlação pode ser **espúria**, pois:\n",
    "\n",
    " **Explicação:** Ambos os poluentes podem aumentar simultaneamente **devido a uma terceira variável em comum**, como aumento no tráfego de veículos ou queimadas. Ou seja, eles **não causam um ao outro diretamente**, mas sim **reagem de forma semelhante a um mesmo fator externo**, o que gera uma falsa sensação de dependência entre si.\n"
   ]
  }
 ],
 "metadata": {
  "kernelspec": {
   "display_name": "Python 3",
   "language": "python",
   "name": "python3"
  },
  "language_info": {
   "codemirror_mode": {
    "name": "ipython",
    "version": 3
   },
   "file_extension": ".py",
   "mimetype": "text/x-python",
   "name": "python",
   "nbconvert_exporter": "python",
   "pygments_lexer": "ipython3",
   "version": "3.12.10"
  }
 },
 "nbformat": 4,
 "nbformat_minor": 5
}
